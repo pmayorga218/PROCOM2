{
  "nbformat": 4,
  "nbformat_minor": 0,
  "metadata": {
    "colab": {
      "provenance": [],
      "toc_visible": true
    },
    "kernelspec": {
      "name": "python3",
      "display_name": "Python 3"
    },
    "language_info": {
      "name": "python"
    }
  },
  "cells": [
    {
      "cell_type": "markdown",
      "source": [
        "# E1"
      ],
      "metadata": {
        "id": "o_KhdS86nH-V"
      }
    },
    {
      "cell_type": "code",
      "execution_count": 1,
      "metadata": {
        "id": "cxcz0AqllbMw"
      },
      "outputs": [],
      "source": [
        "def npc(a,b):\n",
        "  if a>b:\n",
        "    return a\n",
        "  return b"
      ]
    },
    {
      "cell_type": "code",
      "source": [
        "def npc(a,b):\n",
        "  if a>b:\n",
        "    print(f\"{a} es el mayor\")\n",
        "  else:\n",
        "    print(b, \"es el mayor\")"
      ],
      "metadata": {
        "id": "8kXKoJLgoWOE"
      },
      "execution_count": 6,
      "outputs": []
    },
    {
      "cell_type": "code",
      "source": [
        "npc(4,5)"
      ],
      "metadata": {
        "colab": {
          "base_uri": "https://localhost:8080/"
        },
        "id": "LliW0MUJnaYW",
        "outputId": "5d47f5b6-56d0-40e3-abfe-b8f6ed3bef37"
      },
      "execution_count": 2,
      "outputs": [
        {
          "output_type": "execute_result",
          "data": {
            "text/plain": [
              "5"
            ]
          },
          "metadata": {},
          "execution_count": 2
        }
      ]
    },
    {
      "cell_type": "code",
      "source": [
        "print(npc(5,4))"
      ],
      "metadata": {
        "colab": {
          "base_uri": "https://localhost:8080/"
        },
        "id": "LwEkuP3InsuZ",
        "outputId": "b80f7d7e-9ac4-47a9-d73b-19011cdc63fd"
      },
      "execution_count": 7,
      "outputs": [
        {
          "output_type": "stream",
          "name": "stdout",
          "text": [
            "5 es el mayor\n",
            "None\n"
          ]
        }
      ]
    },
    {
      "cell_type": "code",
      "source": [
        "def mayor(x,y,z):\n",
        "  npc(x,npc(y,z))"
      ],
      "metadata": {
        "id": "yzI-mJl4nv9k"
      },
      "execution_count": 4,
      "outputs": []
    },
    {
      "cell_type": "code",
      "source": [
        "print(mayor(4,5,6))"
      ],
      "metadata": {
        "id": "6iirLlAEoEB9"
      },
      "execution_count": null,
      "outputs": []
    },
    {
      "cell_type": "markdown",
      "source": [
        "# E2"
      ],
      "metadata": {
        "id": "1UqcPfpiqKBc"
      }
    },
    {
      "cell_type": "code",
      "source": [
        "def comparar(a,b,c):\n",
        "  if a!=b and b!=c and a!=c:\n",
        "   if a>b and a>c:\n",
        "    print(f\"{a} es el mayor\")\n",
        "   if b>a and b>c:\n",
        "    print(f\"{b} es el mayor\")\n",
        "   if c>a and c>b:\n",
        "    print(f\"{c} es el mayor\")\n",
        "  else:\n",
        "    print(\"No se puede hacer el cálculo\")"
      ],
      "metadata": {
        "id": "m2ThkNi1qLxj"
      },
      "execution_count": 12,
      "outputs": []
    },
    {
      "cell_type": "code",
      "source": [
        "a = int(input(\"Ingresa un número \"))\n",
        "b = int(input(\"Ingresa un número \"))\n",
        "c = int(input(\"Ingresa un número \"))\n",
        "\n",
        "comparar(c,b,a)\n"
      ],
      "metadata": {
        "colab": {
          "base_uri": "https://localhost:8080/"
        },
        "id": "oYeyZHLqqbbL",
        "outputId": "8dacdd60-eff6-43a6-835c-b8bec0634a42"
      },
      "execution_count": 13,
      "outputs": [
        {
          "output_type": "stream",
          "name": "stdout",
          "text": [
            "Ingresa un número 4\n",
            "Ingresa un número 5\n",
            "Ingresa un número 2\n",
            "5 es el mayor\n"
          ]
        }
      ]
    },
    {
      "cell_type": "markdown",
      "source": [
        "# E3"
      ],
      "metadata": {
        "id": "Weq2OxUrrzF7"
      }
    },
    {
      "cell_type": "code",
      "source": [
        "lista=[3,4,5]\n",
        "def suma(lista):\n",
        "  d =lista[0] + lista[1] + lista[2]\n",
        "  return d\n",
        "  "
      ],
      "metadata": {
        "id": "Bz1BqaEDr1AM"
      },
      "execution_count": 66,
      "outputs": []
    },
    {
      "cell_type": "code",
      "source": [
        "print(suma(lista))"
      ],
      "metadata": {
        "colab": {
          "base_uri": "https://localhost:8080/"
        },
        "id": "Pzx3bLV8u6pY",
        "outputId": "79c493f9-3be1-47e5-9e86-aeae2b92d05d"
      },
      "execution_count": 68,
      "outputs": [
        {
          "output_type": "stream",
          "name": "stdout",
          "text": [
            "12\n"
          ]
        }
      ]
    },
    {
      "cell_type": "markdown",
      "source": [
        "# E4"
      ],
      "metadata": {
        "id": "gpoIWDsqyynF"
      }
    },
    {
      "cell_type": "code",
      "source": [
        "lista=[3,4,5,6]\n",
        "def suma(lista):\n",
        "  x =lista[0] + lista[1] + lista[2] + lista[3]\n",
        "  return x"
      ],
      "metadata": {
        "id": "4XEIvRiX0JPw"
      },
      "execution_count": 69,
      "outputs": []
    },
    {
      "cell_type": "code",
      "source": [
        "print(suma(lista))"
      ],
      "metadata": {
        "colab": {
          "base_uri": "https://localhost:8080/"
        },
        "id": "n6yoLd2q0Lov",
        "outputId": "6c2af20c-54e2-4785-cf72-2d325734c3bb"
      },
      "execution_count": 70,
      "outputs": [
        {
          "output_type": "stream",
          "name": "stdout",
          "text": [
            "18\n"
          ]
        }
      ]
    },
    {
      "cell_type": "markdown",
      "source": [
        "# E5"
      ],
      "metadata": {
        "id": "10yBQvjl0VnH"
      }
    },
    {
      "cell_type": "code",
      "source": [
        "lista=[10,9,8,7,6,5,4,3,2,1,0]\n",
        "def sumar(lista):\n",
        "  return sum(lista)\n",
        "  "
      ],
      "metadata": {
        "id": "oQLTNXa40Xev"
      },
      "execution_count": 72,
      "outputs": []
    },
    {
      "cell_type": "code",
      "source": [
        "print(sumar(lista))"
      ],
      "metadata": {
        "colab": {
          "base_uri": "https://localhost:8080/"
        },
        "id": "QFLoGJng09Su",
        "outputId": "3b3dd4bf-ad1f-486a-bd39-924ec5514696"
      },
      "execution_count": 73,
      "outputs": [
        {
          "output_type": "stream",
          "name": "stdout",
          "text": [
            "55\n"
          ]
        }
      ]
    },
    {
      "cell_type": "markdown",
      "source": [
        "# E6"
      ],
      "metadata": {
        "id": "2OgQGRLY1NuX"
      }
    },
    {
      "cell_type": "code",
      "source": [
        "lista=[1,2,3]\n",
        "def mult(lista):\n",
        "  a = lista[0]*lista[1]*lista[2]\n",
        "  return a"
      ],
      "metadata": {
        "id": "a5EvVF_h1P3-"
      },
      "execution_count": 78,
      "outputs": []
    },
    {
      "cell_type": "code",
      "source": [
        "print(mult(lista))"
      ],
      "metadata": {
        "colab": {
          "base_uri": "https://localhost:8080/"
        },
        "id": "0v64v5oY1lxD",
        "outputId": "86aa1b2d-ba25-4bed-b18c-cc8806fd27c4"
      },
      "execution_count": 79,
      "outputs": [
        {
          "output_type": "stream",
          "name": "stdout",
          "text": [
            "6\n"
          ]
        }
      ]
    },
    {
      "cell_type": "markdown",
      "source": [
        "# E7"
      ],
      "metadata": {
        "id": "vl2JOSyJ1vDo"
      }
    },
    {
      "cell_type": "code",
      "source": [
        "lista=[1,2,3,4]\n",
        "def mult(lista):\n",
        "  a = lista[0]*lista[1]*lista[2]*lista[3]\n",
        "  return a"
      ],
      "metadata": {
        "id": "TP1di7Ys1xD5"
      },
      "execution_count": 80,
      "outputs": []
    },
    {
      "cell_type": "code",
      "source": [
        "print(mult(lista))"
      ],
      "metadata": {
        "colab": {
          "base_uri": "https://localhost:8080/"
        },
        "id": "PxRMl54A1zs5",
        "outputId": "9e0c6402-1e2d-42bb-fa95-2af51cb58f24"
      },
      "execution_count": 81,
      "outputs": [
        {
          "output_type": "stream",
          "name": "stdout",
          "text": [
            "24\n"
          ]
        }
      ]
    },
    {
      "cell_type": "markdown",
      "source": [
        "# E8"
      ],
      "metadata": {
        "id": "HqGinbE93Cj9"
      }
    },
    {
      "cell_type": "code",
      "source": [
        "lista=[2,3,4,5]\n",
        "def mult(lista):\n",
        "    b=1\n",
        "    for i in lista:\n",
        "         b = b * i \n",
        "    return b"
      ],
      "metadata": {
        "id": "OiWMin6M3Eo8"
      },
      "execution_count": 85,
      "outputs": []
    },
    {
      "cell_type": "code",
      "source": [
        "print(mult(lista))"
      ],
      "metadata": {
        "colab": {
          "base_uri": "https://localhost:8080/"
        },
        "id": "0UYKtlti3qXi",
        "outputId": "d2d9a06e-964e-4e78-873f-2b97b9371143"
      },
      "execution_count": 86,
      "outputs": [
        {
          "output_type": "stream",
          "name": "stdout",
          "text": [
            "120\n"
          ]
        }
      ]
    },
    {
      "cell_type": "markdown",
      "source": [
        "# E9"
      ],
      "metadata": {
        "id": "D_UYiOrP4AnM"
      }
    },
    {
      "cell_type": "code",
      "source": [
        "def rev(a):\n",
        "  b = a[::-1]\n",
        "  return b"
      ],
      "metadata": {
        "id": "l32y98Jj4DYa"
      },
      "execution_count": 87,
      "outputs": []
    },
    {
      "cell_type": "code",
      "source": [
        "a = (input(\"Ingresa una palabra \"))\n",
        "print(rev(a))"
      ],
      "metadata": {
        "colab": {
          "base_uri": "https://localhost:8080/"
        },
        "id": "pW-w-O7W452B",
        "outputId": "df865fdf-373c-431a-a0e5-52d9f48cfce7"
      },
      "execution_count": 88,
      "outputs": [
        {
          "output_type": "stream",
          "name": "stdout",
          "text": [
            "Ingresa una palabra hola\n",
            "aloh\n"
          ]
        }
      ]
    },
    {
      "cell_type": "markdown",
      "source": [
        "# E10"
      ],
      "metadata": {
        "id": "r9JRR9zP5BfG"
      }
    },
    {
      "cell_type": "code",
      "source": [
        "def fact(a):\n",
        "  for a in range(2, a+1):\n",
        "    a>0\n",
        "    b = a -1\n",
        "    c = a*b\n",
        "  return c"
      ],
      "metadata": {
        "id": "krE_aI_35D33"
      },
      "execution_count": 89,
      "outputs": []
    },
    {
      "cell_type": "code",
      "source": [
        "a = int(input(\"Ingresa un número \"))\n",
        "print(fact(a))"
      ],
      "metadata": {
        "colab": {
          "base_uri": "https://localhost:8080/"
        },
        "id": "b-3gL7DH6sAm",
        "outputId": "a95f51a6-f3be-434f-fbca-40557935d6cb"
      },
      "execution_count": 91,
      "outputs": [
        {
          "output_type": "stream",
          "name": "stdout",
          "text": [
            "Ingresa un número 3\n",
            "6\n"
          ]
        }
      ]
    },
    {
      "cell_type": "markdown",
      "source": [
        "# E14"
      ],
      "metadata": {
        "id": "0CMBmomv65VD"
      }
    },
    {
      "cell_type": "code",
      "source": [
        "numeros=[1,2,3,4,5,6,7,8,9,10,11,12]\n",
        "def par(numeros):\n",
        "  return numeros[1:13:2]"
      ],
      "metadata": {
        "id": "mDA-30wr613i"
      },
      "execution_count": 94,
      "outputs": []
    },
    {
      "cell_type": "code",
      "source": [
        "print(par(numeros))"
      ],
      "metadata": {
        "colab": {
          "base_uri": "https://localhost:8080/"
        },
        "id": "aGWjtg4t9YSl",
        "outputId": "a5dabc94-e382-43d9-8759-1ab7d31a01de"
      },
      "execution_count": 95,
      "outputs": [
        {
          "output_type": "stream",
          "name": "stdout",
          "text": [
            "[2, 4, 6, 8, 10, 12]\n"
          ]
        }
      ]
    },
    {
      "cell_type": "markdown",
      "source": [
        "# E15\n",
        "\n"
      ],
      "metadata": {
        "id": "fwmaD7c-9mpV"
      }
    },
    {
      "cell_type": "code",
      "source": [
        "numeros=[1,2,3,4,5,6,7,8,9,10,11,12]\n",
        "def impar(numeros):\n",
        "  i=0\n",
        "  return numeros[0:13:i+2]"
      ],
      "metadata": {
        "id": "T9tN80e-9lvV"
      },
      "execution_count": 102,
      "outputs": []
    },
    {
      "cell_type": "code",
      "source": [
        "print(impar(numeros))"
      ],
      "metadata": {
        "colab": {
          "base_uri": "https://localhost:8080/"
        },
        "id": "JFcVnVB-98eB",
        "outputId": "f34c6d27-30d5-4b49-de51-2663287e724e"
      },
      "execution_count": 103,
      "outputs": [
        {
          "output_type": "stream",
          "name": "stdout",
          "text": [
            "[1, 3, 5, 7, 9, 11]\n"
          ]
        }
      ]
    }
  ]
}