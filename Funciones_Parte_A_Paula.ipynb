{
  "nbformat": 4,
  "nbformat_minor": 0,
  "metadata": {
    "colab": {
      "provenance": []
    },
    "kernelspec": {
      "name": "python3",
      "display_name": "Python 3"
    },
    "language_info": {
      "name": "python"
    }
  },
  "cells": [
    {
      "cell_type": "markdown",
      "source": [
        "  FUNCIONES"
      ],
      "metadata": {
        "id": "2FEmqxRX0mTt"
      }
    },
    {
      "cell_type": "markdown",
      "source": [
        "def (nombre cualquiera)(parámetros o argumentos): \n",
        "Lo que va dentro de la función"
      ],
      "metadata": {
        "id": "ZLhGyVSm0zoj"
      }
    },
    {
      "cell_type": "markdown",
      "source": [
        "Tipos de funciones:\n",
        "\n",
        "1. Sin parámtros, sin retorno\n",
        "def manuel():\n",
        "  print (\"Tome su 5\")\n",
        "2. Sin parámetros, con retorno\n",
        "def nicolas():\n",
        "  print (\"Hola Nicolás)\n",
        "  a = 5\n",
        "  return a\n",
        "3. Con parámetros, sin retorno\n",
        "def holitas(a, \"b\", x = 3):\n",
        "  int a\n",
        "  b = string\n",
        "  x = boolean\n",
        "  print (\"Hola Nicolás\")\n",
        "  a=5\n",
        "4. Con parámetros, con retorno\n",
        "def holitas(a, \"b\", x = False):\n",
        "  int a\n",
        "  b = string\n",
        "  x = boolean\n",
        "  print(\"Hola Nicolás\")\n",
        "  a=5\n",
        "  return a"
      ],
      "metadata": {
        "id": "u6tJcLrK1ClK"
      }
    },
    {
      "cell_type": "code",
      "execution_count": 2,
      "metadata": {
        "id": "R1Grwt5y0che"
      },
      "outputs": [],
      "source": [
        "def salude():\n",
        "  print(\"Saludar\")\n",
        "  print(\"Es de cracks\")"
      ]
    },
    {
      "cell_type": "code",
      "source": [
        "salude()"
      ],
      "metadata": {
        "colab": {
          "base_uri": "https://localhost:8080/"
        },
        "id": "KJJR8xLG4k05",
        "outputId": "b55e5a00-35db-4d6d-9220-de0fb212c722"
      },
      "execution_count": 3,
      "outputs": [
        {
          "output_type": "stream",
          "name": "stdout",
          "text": [
            "Saludar\n",
            "Es de cracks\n"
          ]
        }
      ]
    },
    {
      "cell_type": "code",
      "source": [
        "def imprimir(a,b,c):\n",
        "  print(a, \"es el valor mayor\")\n",
        "  print(b, \"es el valor medio\")\n",
        "  print(c, \"es el valor menor\")\n"
      ],
      "metadata": {
        "id": "TnhVKBw-6I7r"
      },
      "execution_count": 5,
      "outputs": []
    },
    {
      "cell_type": "code",
      "source": [
        "def comparar(a,b,c):\n",
        "  if a!=b and b!=c and a!=c:\n",
        "   if a>b and a>c:\n",
        "    if b>c:\n",
        "      imprimir(a,b,c)\n",
        "    else:\n",
        "      imprimir(a,c,b)\n",
        "   if b>a and b>c:\n",
        "    if a>c:\n",
        "      imprimir(b,a,c)\n",
        "    else:\n",
        "      imprimir(b,c,a)\n",
        "   if c>a and c>b:\n",
        "     if a>b:\n",
        "      imprimir(c,a,b)\n",
        "     else:\n",
        "      imprimir(c,b,a)\n",
        "  else:\n",
        "    print(\"No se puede hacer el cálculo\")\n"
      ],
      "metadata": {
        "id": "2ImYJ9rAAxrK"
      },
      "execution_count": 9,
      "outputs": []
    },
    {
      "cell_type": "code",
      "source": [
        "a = int(input(\"Ingresa un número \"))\n",
        "b = int(input(\"Ingresa un número \"))\n",
        "c = int(input(\"Ingresa un número \"))\n",
        "\n",
        "comparar(c,b,a)\n"
      ],
      "metadata": {
        "colab": {
          "base_uri": "https://localhost:8080/"
        },
        "id": "TJPwkSaH8uQa",
        "outputId": "f82ab021-2886-44f3-9962-dc1d1cbbca3a"
      },
      "execution_count": 12,
      "outputs": [
        {
          "output_type": "stream",
          "name": "stdout",
          "text": [
            "Ingresa un número 7\n",
            "Ingresa un número 5\n",
            "Ingresa un número 4\n",
            "7 es el valor mayor\n",
            "5 es el valor medio\n",
            "4 es el valor menor\n"
          ]
        }
      ]
    },
    {
      "cell_type": "code",
      "source": [
        "a = int(input(\"Ingresa un número \"))\n",
        "b = int(input(\"Ingresa un número \"))\n",
        "c = int(input(\"Ingresa un número \"))\n",
        "if a!=b and b!=c and a!=c:\n",
        "   if a>b and a>c:\n",
        "    if b>c:\n",
        "      print(a, \"es el valor mayor\")\n",
        "      print(b, \"es el valor medio\")\n",
        "      print(c, \"es el valor menor\")\n",
        "    else:\n",
        "      print(a, \"es el valor mayor\")\n",
        "      print(c, \"es el valor medio\")\n",
        "      print(b, \"es el valor menor\")\n",
        "   if b>a and b>c:\n",
        "    if a>c:\n",
        "      print(b, \"es el valor mayor\")\n",
        "      print(a, \"es el valor medio\")\n",
        "      print(c, \"es el valor menor\")\n",
        "    else:\n",
        "      print(b, \"es el valor mayor\")\n",
        "      print(c, \"es el valor medio\")\n",
        "      print(a, \"es el valor menor\")\n",
        "   if c>a and c>b:\n",
        "     if a>b:\n",
        "      print(c, \"es el valor mayor\")\n",
        "      print(a, \"es el valor medio\")\n",
        "      print(b, \"es el valor menor\")\n",
        "     else:\n",
        "      print(c, \"es el valor mayor\")\n",
        "      print(b, \"es el valor medio\")\n",
        "      print(a, \"es el valor menor\")\n",
        "else:\n",
        "    print(\"No se puede hacer el cálculo\")\n"
      ],
      "metadata": {
        "id": "MVY0bIdz8dPq"
      },
      "execution_count": null,
      "outputs": []
    },
    {
      "cell_type": "code",
      "source": [
        "a=input(\"Ingresa una letra o número \")\n",
        "if type(a)==str:\n",
        "  if a == \"a\" or a == \"e\" or a == \"i\" or a == \"o\" or a == \"u\":\n",
        "    print(a, \" es una vocal\")\n",
        "  else:\n",
        "    print(a, \" es una consonante\")\n"
      ],
      "metadata": {
        "colab": {
          "base_uri": "https://localhost:8080/"
        },
        "id": "PQ1_BnqyE6uf",
        "outputId": "afc7b3e5-7aae-4fcc-db55-89415629a2e8"
      },
      "execution_count": 22,
      "outputs": [
        {
          "output_type": "stream",
          "name": "stdout",
          "text": [
            "Ingresa una letra o número l\n",
            "l  es una consonante\n"
          ]
        }
      ]
    }
  ]
}