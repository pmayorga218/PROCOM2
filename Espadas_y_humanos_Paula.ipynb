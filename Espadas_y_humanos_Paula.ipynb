{
  "nbformat": 4,
  "nbformat_minor": 0,
  "metadata": {
    "colab": {
      "provenance": [],
      "collapsed_sections": []
    },
    "kernelspec": {
      "name": "python3",
      "display_name": "Python 3"
    },
    "language_info": {
      "name": "python"
    }
  },
  "cells": [
    {
      "cell_type": "code",
      "execution_count": null,
      "metadata": {
        "id": "kEQQ-ehiNcq4"
      },
      "outputs": [],
      "source": [
        "class Espadas():\n",
        "  nombre=\"Manolito\"\n",
        "  dano=1000\n",
        "  def __init__(self,nombre,dano):\n",
        "    self.nombre=nombre\n",
        "    self.dano=dano\n",
        "\n",
        "  def __repr__(self):\n",
        "    return f\"espada de :{self.nombre} y causa {self.dano} de daño\""
      ]
    },
    {
      "cell_type": "code",
      "source": [
        "class Espada_elemental(Espadas):\n",
        "  def masatributos(self, elemento, tamano,durabilidad,color,luz, resistencia, plegable):\n",
        "    self.elemento= elemento\n",
        "    self.tamano= tamano\n",
        "    self.durabilidad=durabilidad\n",
        "    self.color= color\n",
        "    self.luz=luz\n",
        "    self.resistencia=resistencia\n",
        "    self.plegable=plegable"
      ],
      "metadata": {
        "id": "emS5ceSwHFJf"
      },
      "execution_count": null,
      "outputs": []
    },
    {
      "cell_type": "code",
      "source": [
        "espada1=Espada_elemental(\"Manolito\", 1000)"
      ],
      "metadata": {
        "id": "iwv9OVk9JCht"
      },
      "execution_count": null,
      "outputs": []
    },
    {
      "cell_type": "code",
      "source": [
        "print(espada1)"
      ],
      "metadata": {
        "colab": {
          "base_uri": "https://localhost:8080/"
        },
        "id": "86idSiflJe-h",
        "outputId": "142e2652-96d2-472a-e6ba-21b05817e346"
      },
      "execution_count": null,
      "outputs": [
        {
          "output_type": "stream",
          "name": "stdout",
          "text": [
            "espada de :Manolito y causa 1000 de daño\n"
          ]
        }
      ]
    },
    {
      "cell_type": "code",
      "source": [
        "espada1.masatributos(\"diamante\", 30, 10000, \"rosado\", \"verde\", \"agua y fuego\", \"si\")"
      ],
      "metadata": {
        "id": "82c5bCtIJll6"
      },
      "execution_count": null,
      "outputs": []
    },
    {
      "cell_type": "code",
      "source": [
        "espada1.__dict__"
      ],
      "metadata": {
        "colab": {
          "base_uri": "https://localhost:8080/"
        },
        "id": "7ZozrEY1J_Gf",
        "outputId": "7a2f1d8b-15e8-4a80-d8d4-88cb658a5027"
      },
      "execution_count": null,
      "outputs": [
        {
          "output_type": "execute_result",
          "data": {
            "text/plain": [
              "{'nombre': 'Manolito',\n",
              " 'dano': 1000,\n",
              " 'elemento': 'diamante',\n",
              " 'tamano': 30,\n",
              " 'durabilidad': 10000,\n",
              " 'color': 'rosado',\n",
              " 'luz': 'verde',\n",
              " 'resistencia': 'agua y fuego',\n",
              " 'plegable': 'si'}"
            ]
          },
          "metadata": {},
          "execution_count": 17
        }
      ]
    },
    {
      "cell_type": "code",
      "source": [
        "class Humano():\n",
        "  def __init__(self,nombre,edad,cuerpo,piernas,brazos,ojos,cabello,nariz,color_piel):\n",
        "    self.nombre=nombre\n",
        "    self.edad=edad\n",
        "    self.cuerpo=cuerpo\n",
        "    self.piernas=piernas\n",
        "    self.brazos=brazos\n",
        "    self.ojos=ojos\n",
        "    self.cabello=cabello\n",
        "    self.nariz=nariz\n",
        "    self.color_piel=color_piel\n",
        "\n",
        "  def caminar(self,aceleracion,velocidad):\n",
        "    if velocidad>2 and velocidad<4:\n",
        "      return f\"{self.nombre}\"\n",
        "\n",
        "  \n",
        " "
      ],
      "metadata": {
        "id": "uEWenQB6QEYL"
      },
      "execution_count": null,
      "outputs": []
    },
    {
      "cell_type": "code",
      "source": [],
      "metadata": {
        "id": "65uLOuTrRkhq"
      },
      "execution_count": null,
      "outputs": []
    }
  ]
}
