{
  "nbformat": 4,
  "nbformat_minor": 0,
  "metadata": {
    "colab": {
      "provenance": [],
      "toc_visible": true
    },
    "kernelspec": {
      "name": "python3",
      "display_name": "Python 3"
    },
    "language_info": {
      "name": "python"
    }
  },
  "cells": [
    {
      "cell_type": "markdown",
      "source": [
        "#E1"
      ],
      "metadata": {
        "id": "oGX6T0HLIiE_"
      }
    },
    {
      "cell_type": "markdown",
      "source": [
        "Pérdida de información en caso de algún fallo con la red o apagón.\n",
        "\n"
      ],
      "metadata": {
        "id": "UyxTuFfpH8kB"
      }
    },
    {
      "cell_type": "markdown",
      "source": [
        "# E2"
      ],
      "metadata": {
        "id": "oG-TQHHdI4Fe"
      }
    },
    {
      "cell_type": "markdown",
      "source": [
        "Error al guardar información pasada y no permite llamar alguna variable, o arroja error, luego, se debe desconectar el entorno de ejecución..."
      ],
      "metadata": {
        "id": "ZPBkqrQvH92C"
      }
    },
    {
      "cell_type": "markdown",
      "source": [
        "# E3"
      ],
      "metadata": {
        "id": "kBWBB_q2I7Km"
      }
    },
    {
      "cell_type": "markdown",
      "source": [
        "Colab necesita tener flexibilidad para ajustar dinámicamente los límites de uso y la disponibilidad de hardware."
      ],
      "metadata": {
        "id": "eJcFYQZINdUV"
      }
    },
    {
      "cell_type": "markdown",
      "source": [
        "# E4"
      ],
      "metadata": {
        "id": "jo61wnX8I87Y"
      }
    },
    {
      "cell_type": "markdown",
      "source": [
        "No se puede ejercutar sin conexión"
      ],
      "metadata": {
        "id": "0EeXG8zjKbkz"
      }
    },
    {
      "cell_type": "markdown",
      "source": [
        "# E5"
      ],
      "metadata": {
        "id": "8H0iNtTfI_cO"
      }
    },
    {
      "cell_type": "markdown",
      "source": [
        "No se ejecutan algunos entornos de programación."
      ],
      "metadata": {
        "id": "lORyqDZ1NTqF"
      }
    },
    {
      "cell_type": "markdown",
      "source": [
        "# E6"
      ],
      "metadata": {
        "id": "SCjhKkG8JCwu"
      }
    },
    {
      "cell_type": "markdown",
      "source": [
        "Las operaciones de Google Drive pueden agotar el tiempo de espera cuando el número de archivos o subcarpetas de una carpeta se vuelve demasiado grande, sin superar el límite necesariamente."
      ],
      "metadata": {
        "id": "UnwpK825NY4-"
      }
    },
    {
      "cell_type": "markdown",
      "source": [
        "# E7"
      ],
      "metadata": {
        "id": "VOKA21XfJwad"
      }
    },
    {
      "cell_type": "markdown",
      "source": [
        "Número máximo de operaciones por usuario y por archivo, y cuotas de ancho de banda."
      ],
      "metadata": {
        "id": "PFVYHbfWNbRF"
      }
    },
    {
      "cell_type": "markdown",
      "source": [
        "# E8"
      ],
      "metadata": {
        "id": "f8uh5ZBFJyZt"
      }
    },
    {
      "cell_type": "markdown",
      "source": [
        "Minar criptomonedas"
      ],
      "metadata": {
        "id": "VtxfQ8vLLlsB"
      }
    },
    {
      "cell_type": "markdown",
      "source": [
        "# E9"
      ],
      "metadata": {
        "id": "1GsBwz7MJ0Bt"
      }
    },
    {
      "cell_type": "markdown",
      "source": [
        "El contenido compartido se puede modificar al mismo tiempo, alguno podría alterar el programa mientras están todos conectados"
      ],
      "metadata": {
        "id": "1arJ-r38Kf_r"
      }
    },
    {
      "cell_type": "markdown",
      "source": [
        "# E10"
      ],
      "metadata": {
        "id": "EqEhykGJJ4w8"
      }
    },
    {
      "cell_type": "markdown",
      "source": [
        "Alojar archivos, servir contenido multimedia u ofrecer otros servicios web que no estén relacionados con la computación interactiva de Colab"
      ],
      "metadata": {
        "id": "L368BvtYLXgZ"
      }
    },
    {
      "cell_type": "markdown",
      "source": [
        "#E11"
      ],
      "metadata": {
        "id": "bNrzAkwdJ6uk"
      }
    },
    {
      "cell_type": "markdown",
      "source": [
        "No puede graficar o identificar algún tipo de librería importada"
      ],
      "metadata": {
        "id": "cHL3B4ooKT47"
      }
    },
    {
      "cell_type": "markdown",
      "source": [
        "# E12"
      ],
      "metadata": {
        "id": "lkOhYm-ZJ_It"
      }
    },
    {
      "cell_type": "markdown",
      "source": [
        "Ejecutar ataques de denegación de servicio"
      ],
      "metadata": {
        "id": "6emAN74CLohR"
      }
    },
    {
      "cell_type": "markdown",
      "source": [
        "# E13"
      ],
      "metadata": {
        "id": "bMayy9WxKBp0"
      }
    },
    {
      "cell_type": "markdown",
      "source": [
        "Usar un escritorio remoto o SSH"
      ],
      "metadata": {
        "id": "akRFoEumLeOB"
      }
    },
    {
      "cell_type": "markdown",
      "source": [
        "# E14"
      ],
      "metadata": {
        "id": "_EUEAESNKDnD"
      }
    },
    {
      "cell_type": "markdown",
      "source": [
        "Es necesario tener una GPU de google para programar"
      ],
      "metadata": {
        "id": "hCC3jXiALSiR"
      }
    },
    {
      "cell_type": "markdown",
      "source": [
        "# E15"
      ],
      "metadata": {
        "id": "Swk-JppEKFx0"
      }
    },
    {
      "cell_type": "markdown",
      "source": [
        "Craquear contraseñas"
      ],
      "metadata": {
        "id": "c-lNGbpcLqyh"
      }
    },
    {
      "cell_type": "markdown",
      "source": [
        "# E16"
      ],
      "metadata": {
        "id": "q-_5St4UKHj8"
      }
    },
    {
      "cell_type": "markdown",
      "source": [
        "No se conecta a proxies remotos"
      ],
      "metadata": {
        "id": "Ghdz1vEdLg0p"
      }
    },
    {
      "cell_type": "markdown",
      "source": [
        "# E17"
      ],
      "metadata": {
        "id": "sHXhhkleKJis"
      }
    },
    {
      "cell_type": "markdown",
      "source": [
        "Crear ultrafalsos"
      ],
      "metadata": {
        "id": "8Y3b2VcfNPwP"
      }
    },
    {
      "cell_type": "markdown",
      "source": [
        "# E18"
      ],
      "metadata": {
        "id": "65iX-rW0KLTE"
      }
    },
    {
      "cell_type": "markdown",
      "source": [
        "Descargar torrents o compartir archivos de punto a punto"
      ],
      "metadata": {
        "id": "zAsjP3ZKLbSZ"
      }
    },
    {
      "cell_type": "markdown",
      "source": [
        "# E19"
      ],
      "metadata": {
        "id": "G9JDLEN6KM3s"
      }
    },
    {
      "cell_type": "markdown",
      "source": [
        "Usar varias cuentas para eludir las restricciones de acceso o de uso de recursos"
      ],
      "metadata": {
        "id": "6FP5J0q5NNA3"
      }
    },
    {
      "cell_type": "markdown",
      "source": [
        "# E20"
      ],
      "metadata": {
        "id": "JMLrNwduKOYU"
      }
    },
    {
      "cell_type": "markdown",
      "source": [
        "Cuota de almacenamiento limitada"
      ],
      "metadata": {
        "id": "YLHKq26KNWRV"
      }
    }
  ]
}