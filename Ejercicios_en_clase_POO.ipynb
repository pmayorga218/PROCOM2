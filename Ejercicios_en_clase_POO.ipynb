{
  "nbformat": 4,
  "nbformat_minor": 0,
  "metadata": {
    "colab": {
      "provenance": []
    },
    "kernelspec": {
      "name": "python3",
      "display_name": "Python 3"
    },
    "language_info": {
      "name": "python"
    }
  },
  "cells": [
    {
      "cell_type": "code",
      "execution_count": 1,
      "metadata": {
        "id": "V3EHo8Bdxprt"
      },
      "outputs": [],
      "source": [
        "class Fraccion():\n",
        "  def __init__(self, num, den):\n",
        "    self.num=num\n",
        "    self.den=den\n",
        "\n",
        "  def imprimir(self):\n",
        "    return f\"el numerador es {self.num} y el denominador {self.den} \"\n",
        "\n",
        "  def sumita(self, x):\n",
        "    num=self.num * x.den + self.den * x.num\n",
        "    den=self.den * x.den\n",
        "\n",
        "    r = Fraccion(num, den)\n",
        "    print(f\"la suma entre {self.num}/{self.den} y {x.num}/{x.den} es {r.num}/{r.den}\")\n",
        "    return r"
      ]
    },
    {
      "cell_type": "code",
      "source": [
        "b=Fraccion(5,9)"
      ],
      "metadata": {
        "id": "LW8GsfUs1-Ry"
      },
      "execution_count": 2,
      "outputs": []
    },
    {
      "cell_type": "code",
      "source": [
        "a=Fraccion(8,6)"
      ],
      "metadata": {
        "id": "37eV-16R2B8r"
      },
      "execution_count": 3,
      "outputs": []
    },
    {
      "cell_type": "code",
      "source": [
        "b.sumita(a)"
      ],
      "metadata": {
        "colab": {
          "base_uri": "https://localhost:8080/"
        },
        "id": "bGNeS2tL2GYa",
        "outputId": "9a70dc24-7a88-44e1-f45f-a7b6bbaaa5b6"
      },
      "execution_count": 4,
      "outputs": [
        {
          "output_type": "stream",
          "name": "stdout",
          "text": [
            "la suma entre 5/9 y 8/6 es 102/54\n"
          ]
        },
        {
          "output_type": "execute_result",
          "data": {
            "text/plain": [
              "<__main__.Fraccion at 0x7f5e6a82f990>"
            ]
          },
          "metadata": {},
          "execution_count": 4
        }
      ]
    },
    {
      "cell_type": "code",
      "source": [
        "class Fraccion():\n",
        "  def __init__(self, num1, den2):\n",
        "    self.num1=num1\n",
        "    self.den2=den2\n",
        "\n",
        "  def imprimir(self):\n",
        "    return f\"el numerador es {self.num1} y el denominador {self.den2} \"\n",
        "\n",
        "  def restica(self, z):\n",
        "    num1=self.num1 * z.den2 - self.den2 * z.num1\n",
        "    den2=self.den2 * z.den2\n",
        "\n",
        "    \n",
        "\n",
        "    r = Fraccion(num1, den2)\n",
        "    print(f\"la resta entre {self.num1}/{self.den2} y {z.num1}/{z.den2} es {r.num1}/{r.den2}\")\n",
        "    return r"
      ],
      "metadata": {
        "id": "Mf7cKpmV23TQ"
      },
      "execution_count": 18,
      "outputs": []
    },
    {
      "cell_type": "code",
      "source": [
        "b1=Fraccion(3,2)"
      ],
      "metadata": {
        "id": "uEs4_mYd3JFo"
      },
      "execution_count": 19,
      "outputs": []
    },
    {
      "cell_type": "code",
      "source": [
        "a1=Fraccion(1,2)"
      ],
      "metadata": {
        "id": "WasfndeJ3K23"
      },
      "execution_count": 20,
      "outputs": []
    },
    {
      "cell_type": "code",
      "source": [
        "b1.restica(a1)"
      ],
      "metadata": {
        "colab": {
          "base_uri": "https://localhost:8080/"
        },
        "id": "UkAbMmPc3MSP",
        "outputId": "eb2ad02c-fa5b-4762-ac17-20c2c8e2e8c1"
      },
      "execution_count": 21,
      "outputs": [
        {
          "output_type": "stream",
          "name": "stdout",
          "text": [
            "la resta entre 3/2 y 1/2 es 4/4\n"
          ]
        },
        {
          "output_type": "execute_result",
          "data": {
            "text/plain": [
              "<__main__.Fraccion at 0x7f5e6a83a990>"
            ]
          },
          "metadata": {},
          "execution_count": 21
        }
      ]
    },
    {
      "cell_type": "code",
      "source": [
        "class Fraccion():\n",
        "  def __init__(self, num3, den3):\n",
        "    self.num3=num3\n",
        "    self.den3=den3\n",
        "\n",
        "  def imprimir(self):\n",
        "    return f\"el numerador es {self.num3} y el denominador {self.den3} \"\n",
        "\n",
        "  def divi(self, y):\n",
        "    num3=self.num3 * y.den3 \n",
        "    den3=self.den3 * y.num3\n",
        "    if den3==0 or y.den3==0:\n",
        "      print(\"La fracción no puede tener 0 en el denominador\")\n",
        "    else :\n",
        "     r = Fraccion(num3, den3)\n",
        "     print(f\"la división entre {self.num3}/{self.den3} y {y.num3}/{y.den3} es {r.num3}/{r.den3}\")\n",
        "     return r"
      ],
      "metadata": {
        "id": "YxqbIUrV4lGB"
      },
      "execution_count": 49,
      "outputs": []
    },
    {
      "cell_type": "code",
      "source": [
        "b3=Fraccion(3,2)"
      ],
      "metadata": {
        "id": "fLg6u-nm48uO"
      },
      "execution_count": 50,
      "outputs": []
    },
    {
      "cell_type": "code",
      "source": [
        "a3=Fraccion(1,0)"
      ],
      "metadata": {
        "id": "Uf2h5maT5AQ9"
      },
      "execution_count": 51,
      "outputs": []
    },
    {
      "cell_type": "code",
      "source": [
        "b3.divi(a3)"
      ],
      "metadata": {
        "colab": {
          "base_uri": "https://localhost:8080/"
        },
        "id": "dC2GOp5v5DKv",
        "outputId": "a46fc4dc-345f-4199-de14-f3797b1c07c5"
      },
      "execution_count": 52,
      "outputs": [
        {
          "output_type": "stream",
          "name": "stdout",
          "text": [
            "La fracción no puede tener 0 en el denominador\n"
          ]
        }
      ]
    },
    {
      "cell_type": "code",
      "source": [
        "class Fraccion():\n",
        "  def __init__(self, num3, den3):\n",
        "    self.num3=num3\n",
        "    self.den3=den3\n",
        "\n",
        "  def imprimir(self):\n",
        "    return f\"el numerador es {self.num3} y el denominador {self.den3} \"\n",
        "\n",
        "  def multi(self, y):\n",
        "    num3=self.num3 * y.num3 \n",
        "    den3=self.den3 * y.den3\n",
        "    if den3==0 or y.den3==0:\n",
        "      print(\"La fracción no puede tener 0 en el denominador\")\n",
        "    else :\n",
        "     r = Fraccion(num3, den3)\n",
        "     print(f\"la multiplicación entre {self.num3}/{self.den3} y {y.num3}/{y.den3} es {r.num3}/{r.den3}\")\n",
        "     return r"
      ],
      "metadata": {
        "id": "S20g1Qbn8dKT"
      },
      "execution_count": 61,
      "outputs": []
    },
    {
      "cell_type": "code",
      "source": [
        "b3=Fraccion(3,2)"
      ],
      "metadata": {
        "id": "_PTfEeUn9yp-"
      },
      "execution_count": 62,
      "outputs": []
    },
    {
      "cell_type": "code",
      "source": [
        "a3=Fraccion(1,2)"
      ],
      "metadata": {
        "id": "CZAuJouE-Jud"
      },
      "execution_count": 63,
      "outputs": []
    },
    {
      "cell_type": "code",
      "source": [
        "b3.multi(a3)"
      ],
      "metadata": {
        "colab": {
          "base_uri": "https://localhost:8080/"
        },
        "id": "ei9gFPpv-MTd",
        "outputId": "df166823-02ac-47cc-ab55-fcbfe1d8ccd3"
      },
      "execution_count": 64,
      "outputs": [
        {
          "output_type": "stream",
          "name": "stdout",
          "text": [
            "la multiplicación entre 3/2 y 1/2 es 3/4\n"
          ]
        },
        {
          "output_type": "execute_result",
          "data": {
            "text/plain": [
              "<__main__.Fraccion at 0x7f5e6a69dad0>"
            ]
          },
          "metadata": {},
          "execution_count": 64
        }
      ]
    },
    {
      "cell_type": "code",
      "source": [
        "class Fraccion():\n",
        "  nume=0\n",
        "  deno=1\n",
        "\n",
        "  def __init__(self, nume=0, deno=1,exp=0):\n",
        "    self.nume=nume\n",
        "    self.deno=deno\n",
        "    self.exp=exp\n",
        "\n",
        "  def potencia(self):\n",
        "    if self.exp <0:\n",
        "      nume=self.deno**self.exp\n",
        "      deno=self.nume**self.exp\n",
        "    elif self.exp ==0:\n",
        "      nume=1\n",
        "      deno=1\n",
        "    else:\n",
        "     nume=self.nume **self.exp\n",
        "     deno=self.deno **self.exp\n",
        "    re=Fraccion(nume,deno)\n",
        "    print(re.nume,\"/\",re.deno)\n",
        "    return re\n",
        "    \n",
        "  def imprime(self):\n",
        "    print(self.nume,\"/\", self.deno)"
      ],
      "metadata": {
        "id": "FR3Dt8MO-beF"
      },
      "execution_count": 81,
      "outputs": []
    },
    {
      "cell_type": "code",
      "source": [
        "a=Fraccion(5,6,3)\n",
        "b=Fraccion(5,6,-1)\n"
      ],
      "metadata": {
        "id": "e_y7F79y_kuU"
      },
      "execution_count": 82,
      "outputs": []
    },
    {
      "cell_type": "code",
      "source": [
        "a.imprime()\n",
        "a.potencia()"
      ],
      "metadata": {
        "colab": {
          "base_uri": "https://localhost:8080/"
        },
        "id": "8z_lj0jp_qS0",
        "outputId": "e3cda2ee-5fa1-4fb5-c65c-ab5eee67e3c0"
      },
      "execution_count": 83,
      "outputs": [
        {
          "output_type": "stream",
          "name": "stdout",
          "text": [
            "5 / 6\n",
            "125 / 216\n"
          ]
        },
        {
          "output_type": "execute_result",
          "data": {
            "text/plain": [
              "<__main__.Fraccion at 0x7f5e6a6b8e10>"
            ]
          },
          "metadata": {},
          "execution_count": 83
        }
      ]
    },
    {
      "cell_type": "code",
      "source": [
        "class Fraccion():\n",
        "  \n",
        "  def __init__(self, num, den):\n",
        "    self.num=num\n",
        "    self.den=den\n",
        "\n",
        "  def imprimir(self):\n",
        "    return f\"el numerador es {self.num} y el denominador {self.den} \"\n",
        "\n",
        "  def sumita(self, x):\n",
        "    num=self.num * x.den + self.den * x.num\n",
        "    den=self.den * x.den\n",
        "\n",
        "    r = Fraccion(num, den)\n",
        "    print(f\"la suma entre {self.num}/{self.den} y {x.num}/{x.den} es {r.num}/{r.den}\")\n",
        "    return r\n",
        "\n",
        "  def restica(self, z):\n",
        "    num=self.num * z.den - self.den * z.num\n",
        "    den=self.den * z.den\n",
        "    r = Fraccion(num, den)\n",
        "    print(f\"la resta entre {self.num}/{self.den} y {z.num}/{z.den} es {r.num}/{r.den}\")\n",
        "    return r\n",
        "\n",
        "  def divi(self, y):\n",
        "    num=self.num * y.den\n",
        "    den=self.den * y.num\n",
        "    if den==0 or y.den==0:\n",
        "      print(\"La fracción no puede tener 0 en el denominador\")\n",
        "    else :\n",
        "     r = Fraccion(num, den)\n",
        "     print(f\"la división entre {self.num}/{self.den} y {y.num}/{y.den} es {r.num}/{r.den}\")\n",
        "     return r\n",
        "\n",
        "  def multi(self, y):\n",
        "    num=self.num * y.num\n",
        "    den=self.den * y.den\n",
        "    if den==0 or y.den==0:\n",
        "      print(\"La fracción no puede tener 0 en el denominador\")\n",
        "    else :\n",
        "     r = Fraccion(num, den)\n",
        "     print(f\"la multiplicación entre {self.num}/{self.den} y {y.num}/{y.den} es {r.num}/{r.den}\")\n",
        "     return r\n",
        "  nume=0\n",
        "  deno=1\n",
        "\n",
        "  def __init__(self, nume=0, deno=1,exp=0):\n",
        "    self.nume=nume\n",
        "    self.deno=deno\n",
        "    self.exp=exp\n",
        "  def potencia(self):\n",
        "    if self.exp <0:\n",
        "      nume=self.deno**self.exp\n",
        "      deno=self.nume**self.exp\n",
        "    elif self.exp ==0:\n",
        "      nume=1\n",
        "      deno=1\n",
        "    else:\n",
        "     nume=self.nume **self.exp\n",
        "     deno=self.deno **self.exp\n",
        "    re=Fraccion(nume,deno)\n",
        "    print(re.nume,\"/\",re.deno)\n",
        "    return re"
      ],
      "metadata": {
        "id": "R7TjSO7zG2Qa"
      },
      "execution_count": 90,
      "outputs": []
    },
    {
      "cell_type": "code",
      "source": [
        "b=Fraccion(5,9)"
      ],
      "metadata": {
        "id": "YlI0ONmzH1rg"
      },
      "execution_count": 91,
      "outputs": []
    },
    {
      "cell_type": "code",
      "source": [
        "a=Fraccion(1,2)"
      ],
      "metadata": {
        "id": "R4d4rR6BH45u"
      },
      "execution_count": 92,
      "outputs": []
    },
    {
      "cell_type": "code",
      "source": [
        "b.multi(a)"
      ],
      "metadata": {
        "id": "zOxaWAESH-io"
      },
      "execution_count": null,
      "outputs": []
    }
  ]
}