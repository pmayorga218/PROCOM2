{
  "nbformat": 4,
  "nbformat_minor": 0,
  "metadata": {
    "colab": {
      "provenance": [],
      "authorship_tag": "ABX9TyO3B0GJ+tPf/pVHL4et5EA7",
      "include_colab_link": true
    },
    "kernelspec": {
      "name": "python3",
      "display_name": "Python 3"
    },
    "language_info": {
      "name": "python"
    }
  },
  "cells": [
    {
      "cell_type": "markdown",
      "metadata": {
        "id": "view-in-github",
        "colab_type": "text"
      },
      "source": [
        "<a href=\"https://colab.research.google.com/github/pmayorga218/PROCOM2/blob/main/Taller_2.ipynb\" target=\"_parent\"><img src=\"https://colab.research.google.com/assets/colab-badge.svg\" alt=\"Open In Colab\"/></a>"
      ]
    },
    {
      "cell_type": "code",
      "execution_count": 4,
      "metadata": {
        "id": "b2XxzVd3sw_K",
        "colab": {
          "base_uri": "https://localhost:8080/"
        },
        "outputId": "0c8304ef-55bc-4b2f-e08c-e24156a3d3ba"
      },
      "outputs": [
        {
          "output_type": "stream",
          "name": "stdout",
          "text": [
            "{2, 4, 8, 10, 12, 18, 20}\n",
            "{2, 4, 6, 8, 10, 12, 14, 16, 18, 20, 22, 24}\n",
            "{2, 3, 5, 6, 7, 11, 13, 14, 16, 17, 19, 22, 23, 24, 29, 31, 37, 41, 43}\n",
            "{2}\n"
          ]
        }
      ],
      "source": [
        "\n",
        "a={6,7,8,9,10,11,12,13,14,15,16,17,18,19,20}\n",
        "b={2,4,6,8,10,12,14,16,18,20,22,24}\n",
        "c={1,4,8,10,12,15,18,20}\n",
        "d={2, 3, 5, 7, 11, 13, 17, 19, 23, 29, 31, 37, 41, 43}\n",
        "\n",
        "def union(c,f):\n",
        "    return c|f\n",
        "def interseccion(c,f):\n",
        "    return c&f\n",
        "def diferencia(c,f):\n",
        "    return c-f\n",
        "def difsi(c,f):\n",
        "    return c^f\n",
        "\n",
        "a = interseccion(b,difsi(c,d))\n",
        "b = union(interseccion(a,c),b)\n",
        "c = diferencia(union(b,d),c)\n",
        "d = difsi(diferencia(a,b),interseccion(a,d))\n",
        "\n",
        "print(a)\n",
        "print(b)\n",
        "print(c)\n",
        "print(d)"
      ]
    },
    {
      "cell_type": "code",
      "source": [],
      "metadata": {
        "id": "JCyObevZNStL"
      },
      "execution_count": null,
      "outputs": []
    }
  ]
}