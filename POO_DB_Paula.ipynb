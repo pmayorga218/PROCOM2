{
  "nbformat": 4,
  "nbformat_minor": 0,
  "metadata": {
    "colab": {
      "provenance": []
    },
    "kernelspec": {
      "name": "python3",
      "display_name": "Python 3"
    },
    "language_info": {
      "name": "python"
    }
  },
  "cells": [
    {
      "cell_type": "code",
      "execution_count": 1,
      "metadata": {
        "id": "artJ79DIH45H"
      },
      "outputs": [],
      "source": [
        "class Sayayin():\n",
        "  def __init__(self, nombre, cabello, ojos, fuerza, estatura, cola_de_mono):\n",
        "    self.nombre=nombre\n",
        "    self.cabello=\"negro\"\n",
        "    self.ojos=\"negro\"\n",
        "    self.fuerza=fuerza\n",
        "    self.estatura=estatura\n",
        "    self.cola_de_mono=True\n",
        "    \n",
        "\n",
        "  def color_cabello(self,fuerza_base):\n",
        "    fuerza_t=9000\n",
        "    if fuerza_base*10>=fuerza_t*10:\n",
        "      print(\"Alcanza nivel sayayin fase 1\")\n",
        "      self.cabello=\"rubio\"\n",
        "    elif fuerza_base*20>=fuerza_t*20:\n",
        "      print(\"Alcanza nivel sayayin fase 2\")\n",
        "      self.cabello=\"rojo\"\n",
        "    elif fuerza_base*1000>=fuerza_t*1000:\n",
        "      print(\"Alcanza nivel sayayin fase 3\")\n",
        "      self.cabello=\"negro\"\n",
        "      if self.cola==False:\n",
        "        self.cola=True\n",
        "    else:\n",
        "      print(\"Alcanza el nivel supersayayin ultra\")\n",
        "      self.cabello=\"cenizo\"\n",
        "\n",
        "    def luna(self, luna):\n",
        "      if self.cola and luna==\"luna llena\":\n",
        "        print(self.nombre, \"se convierte en ozaru\")\n",
        "        self.fuerza=self.fuerza*50\n",
        "      elif self.cola:\n",
        "        print(self.nombre, \"no se transforma en na\")\n",
        "\n",
        "    def trabajo(self,trabajo):\n",
        "      if trabajo==1:\n",
        "        print(f\"{self.nombre} es tipo guerrero\")\n",
        "      elif trabajo==2:\n",
        "        print(f\"{self.nombre} es tipo liendra e freezer\")\n",
        "      elif trabajo==3:\n",
        "        print(f\"{self.nombre} es tipo mercenarios\")\n",
        "      else:\n",
        "        print(f\"{self.nombre} es de la realeza\")\n",
        "      \n"
      ]
    },
    {
      "cell_type": "code",
      "source": [
        "class Humanos():\n",
        "  def __init__(self, nombre, cabello, ojos, fuerza, estatura):\n",
        "    self.nombre=nombre\n",
        "    self.cabello=cabello\n",
        "    self.ojos=ojos\n",
        "    self.fuerza=fuerza\n",
        "    self.estatura=estatura\n",
        "    \n",
        "\n",
        "\n",
        "  def color_cabello(self,tinte):\n",
        "    if tinte==0:\n",
        "      print(f\"{self.nombre} se ha decolorado el cabello\")\n",
        "      self.cabello=\"amarillo\"\n",
        "    elif tinte==2:\n",
        "      print(f\"{self.nombre} se ha colorado su cabello de lila\")\n",
        "      self.cabello=\"lila\"\n",
        "    elif tinte==3:\n",
        "      print(f\"{self.nombre} se ha colorado su cabello nuez\")\n",
        "      self.cabello=\"nuez\"\n",
        "    else:\n",
        "      print(f\"{self.nombre} se ha colorado su cabello canoso\")\n",
        "      self.cabello=\"canoso\"\n",
        "\n",
        "    def trabajo2(self,trabajo):\n",
        "      if trabajo==1:\n",
        "        print(f\"{self.nombre} trabaja como callcenter\")\n",
        "      elif trabajo==2:\n",
        "        print(f\"{self.nombre} trabaja como vendedor de bon ice\")\n",
        "      elif trabajo==3:\n",
        "        print(f\"{self.nombre} trabaja como tombo\")\n",
        "      elif trabajo==4:\n",
        "        print(f\"{self.nombre} trabaja como programador de python\")\n",
        "      else:\n",
        "        print(f\"{self.nombre} es nini\")\n",
        "      "
      ],
      "metadata": {
        "id": "S2njvZ3wOJVj"
      },
      "execution_count": 2,
      "outputs": []
    },
    {
      "cell_type": "code",
      "source": [
        "class Hibrido(Sayayin, Humanos):\n",
        "  def __init__():\n",
        "    #Sayayin.__init__(self, nombre, cabello, ojos, fuerza, estatura, cola_de_mono)\n",
        "    super()\n",
        "    "
      ],
      "metadata": {
        "id": "VmkvpNpRSZLO"
      },
      "execution_count": 3,
      "outputs": []
    },
    {
      "cell_type": "code",
      "source": [
        "goku=Sayayin(\"Kakaroto\",\"arcoiris\",\"verde-rosado\",100,50,True)\n",
        "goku.__dict__"
      ],
      "metadata": {
        "colab": {
          "base_uri": "https://localhost:8080/"
        },
        "id": "PX1pazucSqk8",
        "outputId": "b29aceba-3624-4fd0-ca99-339dc360e1d6"
      },
      "execution_count": 4,
      "outputs": [
        {
          "output_type": "execute_result",
          "data": {
            "text/plain": [
              "{'nombre': 'Kakaroto',\n",
              " 'cabello': 'negro',\n",
              " 'ojos': 'negro',\n",
              " 'fuerza': 100,\n",
              " 'estatura': 50,\n",
              " 'cola_de_mono': True}"
            ]
          },
          "metadata": {},
          "execution_count": 4
        }
      ]
    },
    {
      "cell_type": "code",
      "source": [
        "goku.color_cabello(10000)"
      ],
      "metadata": {
        "colab": {
          "base_uri": "https://localhost:8080/"
        },
        "id": "seGhvej_Tyek",
        "outputId": "767764a7-a9a2-4005-9617-1f2063f81471"
      },
      "execution_count": 5,
      "outputs": [
        {
          "output_type": "stream",
          "name": "stdout",
          "text": [
            "Alcanza nivel sayayin fase 1\n"
          ]
        }
      ]
    },
    {
      "cell_type": "code",
      "source": [
        "goku.__dict__"
      ],
      "metadata": {
        "colab": {
          "base_uri": "https://localhost:8080/"
        },
        "id": "bqMjad5wT5Cr",
        "outputId": "ddc568f1-73b6-4e58-f7f5-53713deebbf1"
      },
      "execution_count": 6,
      "outputs": [
        {
          "output_type": "execute_result",
          "data": {
            "text/plain": [
              "{'nombre': 'Kakaroto',\n",
              " 'cabello': 'rubio',\n",
              " 'ojos': 'negro',\n",
              " 'fuerza': 100,\n",
              " 'estatura': 50,\n",
              " 'cola_de_mono': True}"
            ]
          },
          "metadata": {},
          "execution_count": 6
        }
      ]
    },
    {
      "cell_type": "code",
      "source": [
        "goku.ojos=\"azul\"\n",
        "goku.__dict__"
      ],
      "metadata": {
        "colab": {
          "base_uri": "https://localhost:8080/"
        },
        "id": "FleU6KnjUBQj",
        "outputId": "7116ee4d-aaea-4d27-a231-9d96b94b9671"
      },
      "execution_count": 7,
      "outputs": [
        {
          "output_type": "execute_result",
          "data": {
            "text/plain": [
              "{'nombre': 'Kakaroto',\n",
              " 'cabello': 'rubio',\n",
              " 'ojos': 'azul',\n",
              " 'fuerza': 100,\n",
              " 'estatura': 50,\n",
              " 'cola_de_mono': True}"
            ]
          },
          "metadata": {},
          "execution_count": 7
        }
      ]
    },
    {
      "cell_type": "code",
      "source": [
        "milk=Humanos(\"Milk\",\"negros\",\"negro\", 100, 50)"
      ],
      "metadata": {
        "id": "7ClI6fZ2TH_0"
      },
      "execution_count": 8,
      "outputs": []
    },
    {
      "cell_type": "code",
      "source": [
        "gohan=Hibrido(\"Gohan\", \"negro\",\"aguamarina\",1000, 50, True)"
      ],
      "metadata": {
        "id": "YADy1hdQVRE5"
      },
      "execution_count": null,
      "outputs": []
    },
    {
      "cell_type": "code",
      "source": [
        "print(\"Hola mundo\")"
      ],
      "metadata": {
        "colab": {
          "base_uri": "https://localhost:8080/"
        },
        "id": "mTpSlBiuWmlg",
        "outputId": "3ed7a76a-aa4c-40da-a8f3-46b66fbbfe98"
      },
      "execution_count": null,
      "outputs": [
        {
          "output_type": "stream",
          "name": "stdout",
          "text": [
            "Hola mundo\n"
          ]
        }
      ]
    },
    {
      "cell_type": "code",
      "source": [
        "print(3)"
      ],
      "metadata": {
        "colab": {
          "base_uri": "https://localhost:8080/"
        },
        "id": "XfWOPhBtWo_g",
        "outputId": "dcf2633b-f6ac-4525-ee1a-e980f63dc366"
      },
      "execution_count": null,
      "outputs": [
        {
          "output_type": "stream",
          "name": "stdout",
          "text": [
            "3\n"
          ]
        }
      ]
    },
    {
      "cell_type": "code",
      "source": [
        "class Agregar(list, objeto):\n",
        "  pass"
      ],
      "metadata": {
        "id": "Tjz5M_J9XmYo"
      },
      "execution_count": null,
      "outputs": []
    }
  ]
}