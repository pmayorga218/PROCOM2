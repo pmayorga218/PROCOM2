{
  "nbformat": 4,
  "nbformat_minor": 0,
  "metadata": {
    "colab": {
      "provenance": []
    },
    "kernelspec": {
      "name": "python3",
      "display_name": "Python 3"
    },
    "language_info": {
      "name": "python"
    }
  },
  "cells": [
    {
      "cell_type": "code",
      "execution_count": 1,
      "metadata": {
        "colab": {
          "base_uri": "https://localhost:8080/"
        },
        "id": "in15GfePKMLL",
        "outputId": "0ba9f250-4985-4d58-d844-15fe484a311b"
      },
      "outputs": [
        {
          "output_type": "execute_result",
          "data": {
            "text/plain": [
              "[2, 4, 6, 8, 10, 12, 14, 16]"
            ]
          },
          "metadata": {},
          "execution_count": 1
        }
      ],
      "source": [
        "números=[ n for n  in range (1,9)]\n",
        "n2=list(map(lambda n:n*2,números))\n",
        "n2"
      ]
    },
    {
      "cell_type": "code",
      "source": [
        "número=[2,5,6,9,10]\n",
        "cuadrados=[n for n in número]\n",
        "cuadrados=list(map(lambda n:n**2,número))\n",
        "cuadrados"
      ],
      "metadata": {
        "colab": {
          "base_uri": "https://localhost:8080/"
        },
        "id": "IS2y8oTJKgkm",
        "outputId": "9865ee9e-d604-412c-efa9-87c93a281e95"
      },
      "execution_count": 2,
      "outputs": [
        {
          "output_type": "execute_result",
          "data": {
            "text/plain": [
              "[4, 25, 36, 81, 100]"
            ]
          },
          "metadata": {},
          "execution_count": 2
        }
      ]
    },
    {
      "cell_type": "code",
      "source": [
        "cadena=\"python\"\n",
        "def ejerc3(letra):\n",
        "  return letra\n",
        "letras=[ ejerc3(letra) for letra in cadena]\n",
        "print(letras)"
      ],
      "metadata": {
        "colab": {
          "base_uri": "https://localhost:8080/"
        },
        "id": "iN25KUTzKghp",
        "outputId": "d5351d3a-6492-4831-ff67-d038ce991ca2"
      },
      "execution_count": 3,
      "outputs": [
        {
          "output_type": "stream",
          "name": "stdout",
          "text": [
            "['p', 'y', 't', 'h', 'o', 'n']\n"
          ]
        }
      ]
    },
    {
      "cell_type": "code",
      "source": [
        "x=input(\"Ingrese la palabra que desee: \")\n",
        "def mostrar(n):\n",
        "  return n\n",
        "lista=[mostrar(n) for n in x]\n",
        "print(lista)"
      ],
      "metadata": {
        "colab": {
          "base_uri": "https://localhost:8080/"
        },
        "id": "3E2fRXEbKgcp",
        "outputId": "eee66ee1-bbd9-405c-fa9d-19efb37e6f81"
      },
      "execution_count": 4,
      "outputs": [
        {
          "output_type": "stream",
          "name": "stdout",
          "text": [
            "Ingrese la palabra que desee: hola\n",
            "['h', 'o', 'l', 'a']\n"
          ]
        }
      ]
    },
    {
      "cell_type": "code",
      "source": [
        "lista1=[2,7,10,9,8]\n",
        "lista2=[elementos**2 for elementos in lista1 if elementos%2==0 ]\n",
        "print(\"nueva lista\",lista2)"
      ],
      "metadata": {
        "colab": {
          "base_uri": "https://localhost:8080/"
        },
        "id": "8uxvc0HdKgYG",
        "outputId": "2fb7e324-aeb3-4a03-cada-73468e261ca8"
      },
      "execution_count": 20,
      "outputs": [
        {
          "output_type": "stream",
          "name": "stdout",
          "text": [
            "nueva lista [4, 100, 64]\n"
          ]
        }
      ]
    },
    {
      "cell_type": "code",
      "source": [
        "precios=[]\n",
        "print('ingrese los números de los que quieres hacer un descuento')\n",
        "det=True\n",
        "while det:\n",
        "  num=int (input('sino desea agregar mas números digite 0'))\n",
        "  precios.append(num)\n",
        "  det= False if num==0 else num>0\n",
        "des=float(input('ingrese el descuento sin el %'))\n",
        "\n",
        "def jp(precio):\n",
        "  return precio*des/100\n",
        "presdes=[jp(precio) for precio in precios]\n",
        "presdes.pop(-1)\n",
        "print('este es el valor a restar',presdes)"
      ],
      "metadata": {
        "colab": {
          "base_uri": "https://localhost:8080/"
        },
        "id": "3yhHFPMyKgVm",
        "outputId": "ba282b91-df3b-4be6-9064-caeb132fe7fa"
      },
      "execution_count": 7,
      "outputs": [
        {
          "output_type": "stream",
          "name": "stdout",
          "text": [
            "ingrese los números de los que quieres hacer un descuento\n",
            "sino desea agregar mas números digite 050\n",
            "sino desea agregar mas números digite 070\n",
            "sino desea agregar mas números digite 090\n",
            "sino desea agregar mas números digite 00\n",
            "ingrese el descuento sin el %20\n",
            "este es el valor a restar [10.0, 14.0, 18.0]\n"
          ]
        }
      ]
    },
    {
      "cell_type": "code",
      "source": [
        "#tradicional\n",
        "n=int(input(\"Ingresa el n de palabras que quieres ingresar\"))\n",
        "\n",
        "lista=[]\n",
        "lista1=[]\n",
        "for i in range(n):\n",
        "  l=input(\"Ingresa una palabra\")\n",
        "  if l.isupper():lista.append(l)\n",
        "  if l.islower():lista1.append(l)\n",
        "print(lista)\n",
        "print(lista1)"
      ],
      "metadata": {
        "colab": {
          "base_uri": "https://localhost:8080/"
        },
        "id": "FhDM5WRgKgRu",
        "outputId": "b0f3307f-f503-40cc-e80a-0db7fe207139"
      },
      "execution_count": 8,
      "outputs": [
        {
          "output_type": "stream",
          "name": "stdout",
          "text": [
            "Ingresa el n de palabras que quieres ingresar3\n",
            "Ingresa una palabrahi\n",
            "Ingresa una palabrahola\n",
            "Ingresa una palabrabonjour\n",
            "[]\n",
            "['hi', 'hola', 'bonjour']\n"
          ]
        }
      ]
    },
    {
      "cell_type": "code",
      "source": [
        "#compresión\n",
        "n=int(input(\"Ingresa el n de palabras que quieres ingresar\"))\n",
        "lista3=[]\n",
        "\n",
        "for i in range (n):\n",
        "  l=input(\"Ingresa la palabra\")\n",
        "  lista3.append(l)\n",
        "lista_comprimida_M=[elemento for elemento in lista3 if elemento.isupper()]\n",
        "lista_comprimida_m=[elemento for elemento in lista3 if elemento.islower()]\n",
        "print(\"Las mayúsculas son\")\n",
        "print(lista_comprimida_M)\n",
        "print(\"Las minúsculas son\")\n",
        "print(lista_comprimida_m)"
      ],
      "metadata": {
        "colab": {
          "base_uri": "https://localhost:8080/"
        },
        "id": "xrFQTn80KgPF",
        "outputId": "a7da4e4f-f73f-4f36-b08b-523c615dc62b"
      },
      "execution_count": 9,
      "outputs": [
        {
          "output_type": "stream",
          "name": "stdout",
          "text": [
            "Ingresa el n de palabras que quieres ingresar2\n",
            "Ingresa la palabrahola\n",
            "Ingresa la palabrahi\n",
            "Las mayúsculas son\n",
            "[]\n",
            "Las minúsculas son\n",
            "['hola', 'hi']\n"
          ]
        }
      ]
    },
    {
      "cell_type": "code",
      "source": [
        "#lambda\n",
        "n=int(input(\"Ingresa el n de palabras que quieres ingresar\"))\n",
        "lista3=[]\n",
        "for i in range (n):\n",
        "  l=input(\"Ingresa la palabra\")\n",
        "lista_comprimida_M=list((map(lambda element:True if elemento.isupper()else False,lista3)))\n",
        "lista_comprimida_m=list((map(lambda element:True if elemento.islower()else False,lista3)))\n",
        "print(\"Las mayúsculas son\")\n",
        "print(lista_comprimida_M)\n",
        "print(\"Las minúsculas son\")\n",
        "print(lista_comprimida_m)"
      ],
      "metadata": {
        "colab": {
          "base_uri": "https://localhost:8080/"
        },
        "id": "Y91MgN6GKgMw",
        "outputId": "5ed0bc05-7557-4d45-9442-4e13c19f0d74"
      },
      "execution_count": 10,
      "outputs": [
        {
          "output_type": "stream",
          "name": "stdout",
          "text": [
            "Ingresa el n de palabras que quieres ingresar3\n",
            "Ingresa la palabraHola\n",
            "Ingresa la palabrahi\n",
            "Ingresa la palabraHello\n",
            "Las mayúsculas son\n",
            "[]\n",
            "Las minúsculas son\n",
            "[]\n"
          ]
        }
      ]
    },
    {
      "cell_type": "code",
      "source": [
        "#tradicional\n",
        "P=str(input(\"Digita una palabra \"))\n",
        "rev= P[::-1]\n",
        "\n",
        "if (P==rev):\n",
        "  print(P, \"si es una palabra palíndromo\")\n",
        "else:\n",
        "  print(P,\"no es una palabra palíndromo\")"
      ],
      "metadata": {
        "colab": {
          "base_uri": "https://localhost:8080/"
        },
        "id": "IY91h0RhKgKX",
        "outputId": "2f56805f-655f-4c42-d3a6-6526a636fb28"
      },
      "execution_count": 11,
      "outputs": [
        {
          "output_type": "stream",
          "name": "stdout",
          "text": [
            "Digita una palabra ana\n",
            "ana si es una palabra palíndromo\n"
          ]
        }
      ]
    },
    {
      "cell_type": "code",
      "source": [
        "#compresión\n",
        "c=int(input(\"Digita la cantidad de elementos que deseas ingresar: \"))\n",
        "a=0\n",
        "lista1=[]\n",
        "for i in range (c):\n",
        "  word=str(input(\"Escribe aquí: \")).lower()\n",
        "  lista1.append(word)\n",
        "print(lista1)\n",
        "lista2=[x for x in lista1 if x==x[::-1]]\n",
        "print(\"Palabras Palíndromo\",lista2)"
      ],
      "metadata": {
        "colab": {
          "base_uri": "https://localhost:8080/"
        },
        "id": "dS4d1yQUKf9n",
        "outputId": "921e5e67-b76c-4179-ed12-96b8d5c5e49a"
      },
      "execution_count": 12,
      "outputs": [
        {
          "output_type": "stream",
          "name": "stdout",
          "text": [
            "Digita la cantidad de elementos que deseas ingresar: 2\n",
            "Escribe aquí: hola\n",
            "Escribe aquí: ana\n",
            "['hola', 'ana']\n",
            "Palabras Palíndromo ['ana']\n"
          ]
        }
      ]
    },
    {
      "cell_type": "code",
      "source": [
        "#lambda\n",
        "c=int(input(\"Digita la cantidad de elementos que deseas ingresar: \"))\n",
        "lista1=[]\n",
        "for i in range(c):\n",
        "  word=str(input(\"Escribe aquí: \")).lower()\n",
        "  lista1.append(word)\n",
        "print(lista1)\n",
        "lista2=list((map(lambda x:True if x==x[::-1] else False, lista1))) #use map para que realizara la función para cada elemento de la lista #use list para que no me muestre el objeto\n",
        "lista2"
      ],
      "metadata": {
        "colab": {
          "base_uri": "https://localhost:8080/"
        },
        "id": "R0Z7rYU0KgIJ",
        "outputId": "022c309d-b4d3-4b57-b4c6-4502dfbae2f1"
      },
      "execution_count": 13,
      "outputs": [
        {
          "output_type": "stream",
          "name": "stdout",
          "text": [
            "Digita la cantidad de elementos que deseas ingresar: 2\n",
            "Escribe aquí: hola\n",
            "Escribe aquí: ana\n",
            "['hola', 'ana']\n"
          ]
        },
        {
          "output_type": "execute_result",
          "data": {
            "text/plain": [
              "[False, True]"
            ]
          },
          "metadata": {},
          "execution_count": 13
        }
      ]
    },
    {
      "cell_type": "code",
      "source": [
        "#tradicional\n",
        "import random\n",
        "stock=[\"martillo\",\"alicate\"]\n",
        "cality=['GOOD','FAIL']\n",
        "a=[]\n",
        "\n",
        "for i in stock:\n",
        "  a.append((i,random.choice(cality)))\n",
        "print(a)\n",
        "listg=[]\n",
        "listf=[]\n",
        "for x in a:\n",
        "  if 'GOOD' in x:\n",
        "    listg.append(x)\n",
        "    print(listg)\n",
        "  elif 'FAIL' in x:\n",
        "    listf.append(x)\n",
        "    print(listf)"
      ],
      "metadata": {
        "colab": {
          "base_uri": "https://localhost:8080/"
        },
        "id": "atKnNpEWLB2R",
        "outputId": "d747fc14-46a8-4132-a8e4-fb96e2690d2f"
      },
      "execution_count": 15,
      "outputs": [
        {
          "output_type": "stream",
          "name": "stdout",
          "text": [
            "[('martillo', 'FAIL'), ('alicate', 'GOOD')]\n",
            "[('martillo', 'FAIL')]\n",
            "[('alicate', 'GOOD')]\n"
          ]
        }
      ]
    },
    {
      "cell_type": "code",
      "source": [
        "#compresión\n",
        "import random\n",
        "stock=['martillo','alicate','audifonos','martillo']\n",
        "cality=['GOOD','FAIL']\n",
        "a=[]\n",
        "\n",
        "for i in stock:\n",
        "  a.append((i,random.choice(cality)))\n",
        "listg=[]\n",
        "listf=[]\n",
        "listg = [x for x in a if 'GOOD' in x]\n",
        "listf= [x for x in a if 'FAIL' in x]\n",
        "print(listg,listf)"
      ],
      "metadata": {
        "colab": {
          "base_uri": "https://localhost:8080/"
        },
        "id": "y-eA1nDkKf3f",
        "outputId": "be7cd5a9-8eeb-498e-f1d5-63f84df3e46c"
      },
      "execution_count": 16,
      "outputs": [
        {
          "output_type": "stream",
          "name": "stdout",
          "text": [
            "[('martillo', 'GOOD'), ('alicate', 'GOOD'), ('audifonos', 'GOOD')] [('martillo', 'FAIL')]\n"
          ]
        }
      ]
    },
    {
      "cell_type": "code",
      "source": [
        "#tradicional\n",
        "import random \n",
        "palabras = [\"a\", \"e\",\"i\",\"o\",\"u\"]\n",
        "numeros =[1,2,3,4,5,6,7,8,9]\n",
        "generador=[]\n",
        "for i in range(0,5):\n",
        " generador.append(random.choice(palabras))\n",
        " generador.append(random.choice(numeros))\n",
        "print(generador)"
      ],
      "metadata": {
        "colab": {
          "base_uri": "https://localhost:8080/"
        },
        "id": "LEOGDqWPLBtu",
        "outputId": "19d85147-45b4-499f-dd4a-9fc468a17ecf"
      },
      "execution_count": 19,
      "outputs": [
        {
          "output_type": "stream",
          "name": "stdout",
          "text": [
            "['a', 2, 'a', 3, 'i', 4, 'o', 8, 'i', 3]\n"
          ]
        }
      ]
    },
    {
      "cell_type": "code",
      "source": [
        "#compresión\n",
        "import random\n",
        "x=input(\"Ingrese la palabra o relación que desea la contraseña\")\n",
        "palabra = [letra for letra in x]\n",
        "números =[num for num in range (0,10)]\n",
        "generador=[random.choice(números) or random.choice(palabra) for num in range(0,11)]\n",
        "print(generador)"
      ],
      "metadata": {
        "colab": {
          "base_uri": "https://localhost:8080/"
        },
        "id": "_NXc8g8lLBx-",
        "outputId": "9f703797-dfac-4beb-a04d-a8396eeb8ac9"
      },
      "execution_count": 17,
      "outputs": [
        {
          "output_type": "stream",
          "name": "stdout",
          "text": [
            "Ingrese la palabra o relación que desea la contraseñahola\n",
            "[6, 6, 5, 2, 3, 7, 6, 4, 6, 2, 6]\n"
          ]
        }
      ]
    },
    {
      "cell_type": "code",
      "source": [
        "#lambda\n",
        "import random\n",
        "x=input(\"Ingrese la palabra o relación que desea la contraseña\")\n",
        "palabras = [letra for letra in x]\n",
        "numeros =[num for num in range (0,10)]\n",
        "generador=[random.choice(list(map(lambda x:x,numeros))) or random.choice(sorted(palabras, key=lambda letra:letra in palabras)) for num in range(0,11)]\n",
        "print(generador)"
      ],
      "metadata": {
        "colab": {
          "base_uri": "https://localhost:8080/"
        },
        "id": "MmmZ_SkTLBvv",
        "outputId": "31426765-b2bf-447f-d92c-ab4099546366"
      },
      "execution_count": 18,
      "outputs": [
        {
          "output_type": "stream",
          "name": "stdout",
          "text": [
            "Ingrese la palabra o relación que desea la contraseñahola\n",
            "[8, 6, 3, 7, 'o', 5, 6, 4, 8, 7, 3]\n"
          ]
        }
      ]
    },
    {
      "cell_type": "code",
      "source": [
        "#tradicional\n",
        "print(\"¡Hola! Soy Lucía del sistema de asignación de turnos para pasaporte de la Gobernación \\n Solo las personas mayores de edad tendrán su cita mañana en el rango de 6am a 12 pm \\n y los menores de edad la tendrán en el rango de 2pm a 6pm \\n \" )\n",
        "lista1=[('Pedro',33),('Ana',3),('Juan',13),('Carla',45)]\n",
        "lista2=[]\n",
        "lista3=[]\n",
        "for elemento in lista1:\n",
        "  if elemento[1]>=18:\n",
        "    lista2.append(elemento)\n",
        "print(f'{lista2} tendrán la cita a las 8am y 10am respectivamente')\n",
        "\n",
        "for elemento in lista1:\n",
        "  if elemento[1]<18:\n",
        "    lista3.append(elemento)\n",
        "print(f'{lista3} tendrán la cita a las 2pm y 4pm respectivamente')"
      ],
      "metadata": {
        "colab": {
          "base_uri": "https://localhost:8080/"
        },
        "id": "c36TQvqeQR0k",
        "outputId": "026774ae-2564-476a-fbf7-7bd4d34807c9"
      },
      "execution_count": 21,
      "outputs": [
        {
          "output_type": "stream",
          "name": "stdout",
          "text": [
            "¡Hola! Soy Lucía del sistema de asignación de turnos para pasaporte de la Gobernación \n",
            " Solo las personas mayores de edad tendrán su cita mañana en el rango de 6am a 12 pm \n",
            " y los menores de edad la tendrán en el rango de 2pm a 6pm \n",
            " \n",
            "[('Pedro', 33), ('Carla', 45)] tendrán la cita a las 8am y 10am respectivamente\n",
            "[('Ana', 3), ('Juan', 13)] tendrán la cita a las 2pm y 4pm respectivamente\n"
          ]
        }
      ]
    },
    {
      "cell_type": "code",
      "source": [
        "#compresión\n",
        "print(\"¡Hola! Soy Lucía del sistema de asignación de turnos para pasaporte de la Gobernación \\n Solo las personas mayores de edad tendrán su cita mañana en el rango de 6am a 12 pm \\n y los menores de edad la tendrán en el rango de 2pm a 6pm \\n \" )\n",
        "personas=[('Pedro',33),('Ana',3),('Juan',13),('Carla',45)]\n",
        "\n",
        "\n",
        "personas_mayores=[per for per in personas if per[1]>=18]\n",
        "print(f'{personas_mayores} tendrán la cita a las 8am y 10am respectivamente')\n",
        "\n",
        "personas_menores=[per for per in personas if per[1]<18]\n",
        "print(f'{personas_menores} tendrán la cita a las 2pm y 4pm respectivamente')"
      ],
      "metadata": {
        "colab": {
          "base_uri": "https://localhost:8080/"
        },
        "id": "a_mhEj6IQRuU",
        "outputId": "0dcca257-2262-48a7-b7f7-ad3b6502da55"
      },
      "execution_count": 22,
      "outputs": [
        {
          "output_type": "stream",
          "name": "stdout",
          "text": [
            "¡Hola! Soy Lucía del sistema de asignación de turnos para pasaporte de la Gobernación \n",
            " Solo las personas mayores de edad tendrán su cita mañana en el rango de 6am a 12 pm \n",
            " y los menores de edad la tendrán en el rango de 2pm a 6pm \n",
            " \n",
            "[('Pedro', 33), ('Carla', 45)] tendrán la cita a las 8am y 10am respectivamente\n",
            "[('Ana', 3), ('Juan', 13)] tendrán la cita a las 2pm y 4pm respectivamente\n"
          ]
        }
      ]
    },
    {
      "cell_type": "code",
      "source": [
        "#lambda\n",
        "print(\"¡Hola! Soy Lucía del sistema de asignación de turnos para pasaporte de la Gobernación \\n Solo las personas mayores de edad tendrán su cita mañana en el rango de 6am a 12 pm \\n y los menores de edad la tendrán en el rango de 2pm a 6pm \\n \" )\n",
        "personas=[('Pedro',33),('Ana',3),('Juan',13),('Carla',45)]\n",
        "perma=list(filter(lambda may: may[1]>=18,personas ))\n",
        "perma\n",
        "print(f'{perma} tendrán la cita a las 8am y 10am respectivamente')\n",
        "\n",
        "perme=list(filter(lambda men: men[1]<18,personas ))\n",
        "perme\n",
        "print(f'{perme} tendrán la cita a las 2pm y 4pm respectivamente')"
      ],
      "metadata": {
        "colab": {
          "base_uri": "https://localhost:8080/"
        },
        "id": "3k7PMOzKQRpP",
        "outputId": "2b07cf20-7e65-423f-b76e-1abdef95b29a"
      },
      "execution_count": 23,
      "outputs": [
        {
          "output_type": "stream",
          "name": "stdout",
          "text": [
            "¡Hola! Soy Lucía del sistema de asignación de turnos para pasaporte de la Gobernación \n",
            " Solo las personas mayores de edad tendrán su cita mañana en el rango de 6am a 12 pm \n",
            " y los menores de edad la tendrán en el rango de 2pm a 6pm \n",
            " \n",
            "[('Pedro', 33), ('Carla', 45)] tendrán la cita a las 8am y 10am respectivamente\n",
            "[('Ana', 3), ('Juan', 13)] tendrán la cita a las 2pm y 4pm respectivamente\n"
          ]
        }
      ]
    }
  ]
}