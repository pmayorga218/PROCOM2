{
  "nbformat": 4,
  "nbformat_minor": 0,
  "metadata": {
    "colab": {
      "provenance": []
    },
    "kernelspec": {
      "name": "python3",
      "display_name": "Python 3"
    },
    "language_info": {
      "name": "python"
    }
  },
  "cells": [
    {
      "cell_type": "markdown",
      "source": [
        "#POO o programación orientada a objetos\n",
        "Clase es como un molde\n",
        "- Variables --> Atributos\n",
        "- Funciones --> Métodos\n",
        "- Constructor --> Constituye una clase\n",
        "- Objetos: Comparten atributos, métodos, relaciones que tienen identidad propia"
      ],
      "metadata": {
        "id": "f--hDkcdB-t5"
      }
    },
    {
      "cell_type": "code",
      "source": [
        "class Mascotas():\n",
        "  pass"
      ],
      "metadata": {
        "id": "OZEh6A-AEU8s"
      },
      "execution_count": null,
      "outputs": []
    },
    {
      "cell_type": "code",
      "source": [
        "a=Mascotas #Creando un objeto\n",
        "b=Mascotas"
      ],
      "metadata": {
        "id": "0yF0znUKFHcu"
      },
      "execution_count": null,
      "outputs": []
    },
    {
      "cell_type": "code",
      "source": [
        "if a==b:\n",
        "  print(\"Son igualitos\")\n",
        "else:\n",
        "  print(\"No son igualitos\")"
      ],
      "metadata": {
        "colab": {
          "base_uri": "https://localhost:8080/"
        },
        "id": "fWxUQa37Gbzf",
        "outputId": "74dbce63-5e47-49af-91bf-07b4a53ac5e3"
      },
      "execution_count": null,
      "outputs": [
        {
          "output_type": "stream",
          "name": "stdout",
          "text": [
            "Son igualitos\n"
          ]
        }
      ]
    },
    {
      "cell_type": "code",
      "execution_count": null,
      "metadata": {
        "id": "u1XJRkWV_BD3"
      },
      "outputs": [],
      "source": [
        "class Empleado(): #LA PRIMERA SIEMPRE VA EN MAYÚSCULA\n",
        "# Construyendo un constructor\n",
        "  def __init__(self,nombre, edad, id, salario) :\n",
        "    self.nombre = nombre\n",
        "    self.edad = edad\n",
        "    self.id = id\n",
        "    self.salario = salario\n",
        "  def __repr__(self):\n",
        "    return f\"nombre:{self.nombre}, edad:{self.edad}, id:{self.id}, salrio:{self.salario}\"\n",
        "    "
      ]
    },
    {
      "cell_type": "code",
      "source": [
        "sonia=Empleado(\"Sonia\",25,\"U00152314\",10000000)"
      ],
      "metadata": {
        "id": "oWPum6b-Heqr"
      },
      "execution_count": null,
      "outputs": []
    },
    {
      "cell_type": "code",
      "source": [
        "print(sonia)"
      ],
      "metadata": {
        "colab": {
          "base_uri": "https://localhost:8080/"
        },
        "id": "rq5_7MwRICaB",
        "outputId": "bd7951bb-9833-4c3b-cce3-6130704d06e9"
      },
      "execution_count": null,
      "outputs": [
        {
          "output_type": "stream",
          "name": "stdout",
          "text": [
            "nombre:Sonia, edad:25, id:U00152314, salrio:10000000\n"
          ]
        }
      ]
    },
    {
      "cell_type": "code",
      "source": [
        "sonia.nombre"
      ],
      "metadata": {
        "colab": {
          "base_uri": "https://localhost:8080/",
          "height": 35
        },
        "id": "XxYDh66YIfsQ",
        "outputId": "5f380f7e-39eb-49c3-cb93-46f0cde334ad"
      },
      "execution_count": null,
      "outputs": [
        {
          "output_type": "execute_result",
          "data": {
            "text/plain": [
              "'Sonia'"
            ],
            "application/vnd.google.colaboratory.intrinsic+json": {
              "type": "string"
            }
          },
          "metadata": {},
          "execution_count": 10
        }
      ]
    },
    {
      "cell_type": "code",
      "source": [
        "sonia.__dict__"
      ],
      "metadata": {
        "colab": {
          "base_uri": "https://localhost:8080/"
        },
        "id": "Jq-iEMNXIh-m",
        "outputId": "503d3180-9745-4fd0-ab9f-e1cfaeb072d6"
      },
      "execution_count": null,
      "outputs": [
        {
          "output_type": "execute_result",
          "data": {
            "text/plain": [
              "{'nombre': 'Sonia', 'edad': 25, 'id': 'U00152314', 'salario': 10000000}"
            ]
          },
          "metadata": {},
          "execution_count": 11
        }
      ]
    },
    {
      "cell_type": "code",
      "source": [
        "class Fraccion:\n",
        "  #Atributos de clase\n",
        "  num=0\n",
        "  den=1\n",
        "\n",
        "  #creando el constructor\n",
        "  def __init__(self, num=0, den=1):\n",
        "    self.num=num\n",
        "    self.den=den\n",
        "\n",
        "  def multiplica(self, b):\n",
        "    num=self.num*b.num\n",
        "    den=self.den*b.den\n",
        "    r=Fraccion(num,den)\n",
        "    return r\n",
        "\n",
        "  def imprime(self):\n",
        "    print(self.num, \"/\",self.den)\n"
      ],
      "metadata": {
        "id": "YvKe8N5hOwpf"
      },
      "execution_count": null,
      "outputs": []
    },
    {
      "cell_type": "code",
      "source": [
        "#Creando objetos tipo fracción\n",
        "a1=Fraccion(4,5)\n",
        "a2=Fraccion(8,9)\n"
      ],
      "metadata": {
        "id": "6CWNBL4cRVzm"
      },
      "execution_count": null,
      "outputs": []
    },
    {
      "cell_type": "code",
      "source": [
        "a1.imprime()\n",
        "a2.imprime()"
      ],
      "metadata": {
        "colab": {
          "base_uri": "https://localhost:8080/"
        },
        "id": "uSPVhCSzRlAF",
        "outputId": "214fb2ff-eac9-4aef-bab7-592d8bc405ce"
      },
      "execution_count": null,
      "outputs": [
        {
          "output_type": "stream",
          "name": "stdout",
          "text": [
            "4 / 5\n",
            "8 / 9\n"
          ]
        }
      ]
    },
    {
      "cell_type": "code",
      "source": [
        "c=a1.multiplica(a2)\n",
        "c.imprime()"
      ],
      "metadata": {
        "colab": {
          "base_uri": "https://localhost:8080/"
        },
        "id": "DG-lYYDYS7hN",
        "outputId": "992fa292-f317-47e8-a8f2-b6dafe9a0692"
      },
      "execution_count": null,
      "outputs": [
        {
          "output_type": "stream",
          "name": "stdout",
          "text": [
            "32 / 45\n"
          ]
        }
      ]
    },
    {
      "cell_type": "code",
      "source": [
        "class Suma:\n",
        "  num1=0\n",
        "  num2=1\n",
        "\n",
        "  def __init__(self, num1=0, num2=1):\n",
        "    self.num1=num1\n",
        "    self.num2=num2\n",
        "\n",
        "  def sumar(self, b):\n",
        "    num1=self.num1+b.num1\n",
        "    num2=self.num2+b.num2\n",
        "    r=Suma(num1,num2)\n",
        "    return r\n",
        "\n",
        "  def imprime(self):\n",
        "    print(self.num1, \"+\",self.num2)"
      ],
      "metadata": {
        "id": "9saJjMYvT5N1"
      },
      "execution_count": null,
      "outputs": []
    },
    {
      "cell_type": "code",
      "source": [
        "a1=Suma(4,5)\n",
        "a2=Suma(8,9)"
      ],
      "metadata": {
        "id": "IHfTFq-vUY-m"
      },
      "execution_count": null,
      "outputs": []
    },
    {
      "cell_type": "code",
      "source": [
        "a1.imprime()\n",
        "a2.imprime()"
      ],
      "metadata": {
        "colab": {
          "base_uri": "https://localhost:8080/"
        },
        "id": "ON-x4gSuUlNF",
        "outputId": "2ed298e9-bc36-42f4-9183-a3ee8e3ee2af"
      },
      "execution_count": null,
      "outputs": [
        {
          "output_type": "stream",
          "name": "stdout",
          "text": [
            "4 + 5\n",
            "8 + 9\n"
          ]
        }
      ]
    },
    {
      "cell_type": "code",
      "source": [
        "c=a1.sumar(a2)\n",
        "c.imprime()"
      ],
      "metadata": {
        "colab": {
          "base_uri": "https://localhost:8080/"
        },
        "id": "hJnJa_AfWEMb",
        "outputId": "81d6a4a3-5246-4c8a-d5ac-34b1f9593e38"
      },
      "execution_count": null,
      "outputs": [
        {
          "output_type": "stream",
          "name": "stdout",
          "text": [
            "12 + 14\n"
          ]
        }
      ]
    },
    {
      "cell_type": "code",
      "source": [
        "class Resta:\n",
        "  num1=0\n",
        "  num2=1\n",
        "  def __init__(self, num1=0, num2=1):\n",
        "    self.num1=num1\n",
        "    self.num2=num2\n",
        "\n",
        "  def restar(self, b):\n",
        "    num1=self.num1-b.num1\n",
        "    num2=self.num2-b.num2\n",
        "    r=Resta(num1,num2)\n",
        "    return r\n",
        "\n",
        "  def imprimir(self):\n",
        "    print(self.num1, \"-\",self.num2)"
      ],
      "metadata": {
        "id": "CJI6FJg0VXks"
      },
      "execution_count": null,
      "outputs": []
    },
    {
      "cell_type": "code",
      "source": [
        "a1=Resta(4,5)\n",
        "a2=Resta(8,9)"
      ],
      "metadata": {
        "id": "NIP02N1PVpAq"
      },
      "execution_count": null,
      "outputs": []
    },
    {
      "cell_type": "code",
      "source": [
        "a1.imprimir()\n",
        "a2.imprimir()"
      ],
      "metadata": {
        "colab": {
          "base_uri": "https://localhost:8080/"
        },
        "id": "dsqe4UHOV2My",
        "outputId": "7678a8eb-9fe7-4fdd-f985-744e2bffb120"
      },
      "execution_count": null,
      "outputs": [
        {
          "output_type": "stream",
          "name": "stdout",
          "text": [
            "4 - 5\n",
            "8 - 9\n"
          ]
        }
      ]
    },
    {
      "cell_type": "code",
      "source": [
        "c=a1.restar(a2)\n",
        "c.imprimir()"
      ],
      "metadata": {
        "colab": {
          "base_uri": "https://localhost:8080/"
        },
        "id": "PIaJF3aRWNrB",
        "outputId": "66da6a50-55dc-4df1-da0c-05514c067763"
      },
      "execution_count": null,
      "outputs": [
        {
          "output_type": "stream",
          "name": "stdout",
          "text": [
            "-4 - -4\n"
          ]
        }
      ]
    }
  ]
}