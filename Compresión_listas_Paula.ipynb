{
  "nbformat": 4,
  "nbformat_minor": 0,
  "metadata": {
    "colab": {
      "provenance": []
    },
    "kernelspec": {
      "name": "python3",
      "display_name": "Python 3"
    },
    "language_info": {
      "name": "python"
    }
  },
  "cells": [
    {
      "cell_type": "code",
      "execution_count": null,
      "metadata": {
        "colab": {
          "base_uri": "https://localhost:8080/"
        },
        "id": "in15GfePKMLL",
        "outputId": "0ba9f250-4985-4d58-d844-15fe484a311b"
      },
      "outputs": [
        {
          "output_type": "execute_result",
          "data": {
            "text/plain": [
              "[2, 4, 6, 8, 10, 12, 14, 16]"
            ]
          },
          "metadata": {},
          "execution_count": 1
        }
      ],
      "source": [
        "números=[ n for n  in range (1,9)]\n",
        "n2=list(map(lambda n:n*2,números))\n",
        "n2"
      ]
    },
    {
      "cell_type": "code",
      "source": [
        "número=[2,5,6,9,10]\n",
        "cuadrados=[n for n in número]\n",
        "cuadrados=list(map(lambda n:n**2,número))\n",
        "cuadrados"
      ],
      "metadata": {
        "colab": {
          "base_uri": "https://localhost:8080/"
        },
        "id": "IS2y8oTJKgkm",
        "outputId": "9865ee9e-d604-412c-efa9-87c93a281e95"
      },
      "execution_count": null,
      "outputs": [
        {
          "output_type": "execute_result",
          "data": {
            "text/plain": [
              "[4, 25, 36, 81, 100]"
            ]
          },
          "metadata": {},
          "execution_count": 2
        }
      ]
    },
    {
      "cell_type": "code",
      "source": [
        "cadena=\"python\"\n",
        "def ejerc3(letra):\n",
        "  return letra\n",
        "letras=[ ejerc3(letra) for letra in cadena]\n",
        "print(letras)"
      ],
      "metadata": {
        "colab": {
          "base_uri": "https://localhost:8080/"
        },
        "id": "iN25KUTzKghp",
        "outputId": "d5351d3a-6492-4831-ff67-d038ce991ca2"
      },
      "execution_count": null,
      "outputs": [
        {
          "output_type": "stream",
          "name": "stdout",
          "text": [
            "['p', 'y', 't', 'h', 'o', 'n']\n"
          ]
        }
      ]
    },
    {
      "cell_type": "code",
      "source": [
        "x=input(\"Ingrese la palabra que desee: \")\n",
        "def mostrar(n):\n",
        "  return n\n",
        "lista=[mostrar(n) for n in x]\n",
        "print(lista)"
      ],
      "metadata": {
        "colab": {
          "base_uri": "https://localhost:8080/"
        },
        "id": "3E2fRXEbKgcp",
        "outputId": "eee66ee1-bbd9-405c-fa9d-19efb37e6f81"
      },
      "execution_count": null,
      "outputs": [
        {
          "output_type": "stream",
          "name": "stdout",
          "text": [
            "Ingrese la palabra que desee: hola\n",
            "['h', 'o', 'l', 'a']\n"
          ]
        }
      ]
    },
    {
      "cell_type": "code",
      "source": [
        "lista1=[2,7,10,9,8]\n",
        "lista2=[elementos**2 for elementos in lista1 if elementos%2==0 ]\n",
        "print(\"nueva lista\",lista2)"
      ],
      "metadata": {
        "colab": {
          "base_uri": "https://localhost:8080/"
        },
        "id": "8uxvc0HdKgYG",
        "outputId": "2fb7e324-aeb3-4a03-cada-73468e261ca8"
      },
      "execution_count": null,
      "outputs": [
        {
          "output_type": "stream",
          "name": "stdout",
          "text": [
            "nueva lista [4, 100, 64]\n"
          ]
        }
      ]
    },
    {
      "cell_type": "code",
      "source": [
        "precios=[]\n",
        "print('ingrese los números de los que quieres hacer un descuento')\n",
        "det=True\n",
        "while det:\n",
        "  num=int (input('sino desea agregar mas números digite 0'))\n",
        "  precios.append(num)\n",
        "  det= False if num==0 else num>0\n",
        "des=float(input('ingrese el descuento sin el %'))\n",
        "\n",
        "def jp(precio):\n",
        "  return precio*des/100\n",
        "presdes=[jp(precio) for precio in precios]\n",
        "presdes.pop(-1)\n",
        "print('este es el valor a restar',presdes)"
      ],
      "metadata": {
        "colab": {
          "base_uri": "https://localhost:8080/"
        },
        "id": "3yhHFPMyKgVm",
        "outputId": "ba282b91-df3b-4be6-9064-caeb132fe7fa"
      },
      "execution_count": null,
      "outputs": [
        {
          "output_type": "stream",
          "name": "stdout",
          "text": [
            "ingrese los números de los que quieres hacer un descuento\n",
            "sino desea agregar mas números digite 050\n",
            "sino desea agregar mas números digite 070\n",
            "sino desea agregar mas números digite 090\n",
            "sino desea agregar mas números digite 00\n",
            "ingrese el descuento sin el %20\n",
            "este es el valor a restar [10.0, 14.0, 18.0]\n"
          ]
        }
      ]
    }
  ]
}