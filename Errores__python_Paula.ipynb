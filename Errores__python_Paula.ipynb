{
  "nbformat": 4,
  "nbformat_minor": 0,
  "metadata": {
    "colab": {
      "provenance": [],
      "toc_visible": true
    },
    "kernelspec": {
      "name": "python3",
      "display_name": "Python 3"
    },
    "language_info": {
      "name": "python"
    }
  },
  "cells": [
    {
      "cell_type": "markdown",
      "source": [
        "#ERRORES PYTHON"
      ],
      "metadata": {
        "id": "E-uicsg--pmd"
      }
    },
    {
      "cell_type": "markdown",
      "source": [
        "# E1"
      ],
      "metadata": {
        "id": "JjnYhpTnYfLr"
      }
    },
    {
      "cell_type": "code",
      "execution_count": null,
      "metadata": {
        "colab": {
          "base_uri": "https://localhost:8080/",
          "height": 269
        },
        "id": "9gTZgzk4-owU",
        "outputId": "e05b11e8-bd1f-4df0-f526-2729c28e2ebd"
      },
      "outputs": [
        {
          "name": "stdout",
          "output_type": "stream",
          "text": [
            "Ingresa un número entero 1\n",
            "Ingresa otro número entero 1\n"
          ]
        },
        {
          "output_type": "error",
          "ename": "TypeError",
          "evalue": "ignored",
          "traceback": [
            "\u001b[0;31m---------------------------------------------------------------------------\u001b[0m",
            "\u001b[0;31mTypeError\u001b[0m                                 Traceback (most recent call last)",
            "\u001b[0;32m<ipython-input-1-7ee6583814e1>\u001b[0m in \u001b[0;36m<module>\u001b[0;34m\u001b[0m\n\u001b[1;32m      3\u001b[0m \u001b[0;32mif\u001b[0m \u001b[0my\u001b[0m \u001b[0;34m==\u001b[0m \u001b[0;36m0\u001b[0m\u001b[0;34m:\u001b[0m\u001b[0;34m\u001b[0m\u001b[0;34m\u001b[0m\u001b[0m\n\u001b[1;32m      4\u001b[0m   \u001b[0mprint\u001b[0m\u001b[0;34m(\u001b[0m\u001b[0;34m\"No se puede dividir entre cero, ingresa otro número\"\u001b[0m\u001b[0;34m)\u001b[0m\u001b[0;34m\u001b[0m\u001b[0;34m\u001b[0m\u001b[0m\n\u001b[0;32m----> 5\u001b[0;31m \u001b[0mx\u001b[0m \u001b[0;34m/\u001b[0m \u001b[0my\u001b[0m\u001b[0;34m\u001b[0m\u001b[0;34m\u001b[0m\u001b[0m\n\u001b[0m\u001b[1;32m      6\u001b[0m \u001b[0;32mif\u001b[0m \u001b[0mx\u001b[0m \u001b[0;34m%\u001b[0m \u001b[0my\u001b[0m \u001b[0;34m==\u001b[0m \u001b[0;36m0\u001b[0m \u001b[0;34m:\u001b[0m\u001b[0;34m\u001b[0m\u001b[0;34m\u001b[0m\u001b[0m\n\u001b[1;32m      7\u001b[0m   \u001b[0mprint\u001b[0m\u001b[0;34m(\u001b[0m\u001b[0;34m\"División exacta\"\u001b[0m\u001b[0;34m)\u001b[0m\u001b[0;34m\u001b[0m\u001b[0;34m\u001b[0m\u001b[0m\n",
            "\u001b[0;31mTypeError\u001b[0m: unsupported operand type(s) for /: 'str' and 'int'"
          ]
        }
      ],
      "source": [
        "x=(input(\"Ingresa un número entero \"))\n",
        "y=int(input(\"Ingresa otro número entero \"))\n",
        "if y == 0:\n",
        "  print(\"No se puede dividir entre cero, ingresa otro número\")\n",
        "x / y \n",
        "if x % y == 0 :\n",
        "  print(\"División exacta\")\n",
        "else :\n",
        "  print(f\"División inexacta, el residuo es {x % y} \")\n",
        "#Este error sale porque no especifiqué qué tipo de dato era x, entonces lo toma como un string y no se pueden hacer operaciones con diferentes tipos de variables"
      ]
    },
    {
      "cell_type": "markdown",
      "source": [
        "#E2"
      ],
      "metadata": {
        "id": "1CrZL7YOYpPr"
      }
    },
    {
      "cell_type": "code",
      "source": [
        "x=int(input(\"Ingresa un número entero \"))\n",
        "y=int(input(\"Ingresa otro número entero \"))\n",
        "if y == 0\n",
        "  print(\"No se puede dividir entre cero, ingresa otro número\")\n",
        "x / y \n",
        "if x % y == 0 \n",
        "  print(\"División exacta\")\n",
        "else \n",
        "  print(f\"División inexacta, el residuo es {x % y} \")\n",
        "#Este error se da porque no puse los dos puntos ni en los if, ni en el else"
      ],
      "metadata": {
        "colab": {
          "base_uri": "https://localhost:8080/",
          "height": 130
        },
        "id": "UiCyJ_A-_WBR",
        "outputId": "4089594a-0153-49b9-de0b-977becd354aa"
      },
      "execution_count": null,
      "outputs": [
        {
          "output_type": "error",
          "ename": "SyntaxError",
          "evalue": "ignored",
          "traceback": [
            "\u001b[0;36m  File \u001b[0;32m\"<ipython-input-3-d552ca3d8274>\"\u001b[0;36m, line \u001b[0;32m3\u001b[0m\n\u001b[0;31m    if y == 0\u001b[0m\n\u001b[0m             ^\u001b[0m\n\u001b[0;31mSyntaxError\u001b[0m\u001b[0;31m:\u001b[0m invalid syntax\n"
          ]
        }
      ]
    },
    {
      "cell_type": "markdown",
      "source": [
        "#E3"
      ],
      "metadata": {
        "id": "ZSA7miHGYtSr"
      }
    },
    {
      "cell_type": "code",
      "source": [
        "x=int(input(\"Ingresa un número entero \"))\n",
        "y=int(input(\"Ingresa otro número entero \"))\n",
        "\n",
        "if y == 0:\n",
        "  print(\"No se puede dividir entre cero, ingresa otro número\")\n",
        "x / y \n",
        "if x % y == 0 :\n",
        "  print(\"División exacta\")\n",
        "else :\n",
        "  print(\"División inexacta, el residuo es  \"{x % y})\n",
        "#En este caso, lo que quería hacer era imprimir el resultado de esta operación, pero no puse la f por fuera de las comillas para que lo reconociera, y aparte de eso, puse la operación por fuera de las comillas"
      ],
      "metadata": {
        "colab": {
          "base_uri": "https://localhost:8080/",
          "height": 130
        },
        "id": "Ki8p1_9t_rtq",
        "outputId": "42327ac5-5a21-44cd-c092-bb36b65cf721"
      },
      "execution_count": null,
      "outputs": [
        {
          "output_type": "error",
          "ename": "SyntaxError",
          "evalue": "ignored",
          "traceback": [
            "\u001b[0;36m  File \u001b[0;32m\"<ipython-input-5-666899507dda>\"\u001b[0;36m, line \u001b[0;32m10\u001b[0m\n\u001b[0;31m    print(\"División inexacta, el residuo es  \"{x % y})\u001b[0m\n\u001b[0m                                              ^\u001b[0m\n\u001b[0;31mSyntaxError\u001b[0m\u001b[0;31m:\u001b[0m invalid syntax\n"
          ]
        }
      ]
    },
    {
      "cell_type": "markdown",
      "source": [
        "#E4"
      ],
      "metadata": {
        "id": "jFOegQELYyQD"
      }
    },
    {
      "cell_type": "code",
      "source": [
        "x=float(input(\"Ingresa una nota \"))\n",
        "y=float(input(\"Ingresa una nota \"))\n",
        "z=float(input(\"Ingresa una nota \"))\n",
        "m=float(input(\"Ingresa una nota \"))\n",
        "(x+y+z+m)/4\n",
        "if (x+y+z+m)/4 > 4.5 :\n",
        "print(\"Estás eximido del examen\")\n",
        "elif (x+y+z+m)/4 > 3.5 and (x+y+z+m)/4 < 4.5:\n",
        "  print(\"Debes presentar el examen\")\n",
        "elif (x+y+z+m)/4 > 3 and (x+y+z+m)/4 < 3.5:\n",
        "  print(\"Adicional al examen, debes presentar un trabajo\")\n",
        "elif (x+y+z+m)/4 > 2 and (x+y+z+m)/4 < 3:\n",
        "  print(\"Debes habilitar\")\n",
        "else:\n",
        "  print(\"Perdiste la materia irremediablemente\")\n",
        "#El error se da porque el if y el print están al mismo nivel, cuando tiene que haber un espacio antes del print"
      ],
      "metadata": {
        "colab": {
          "base_uri": "https://localhost:8080/",
          "height": 130
        },
        "id": "z9FnRRJMJOmo",
        "outputId": "86b6f9b5-69d2-4003-8a07-a7c5a6e04934"
      },
      "execution_count": null,
      "outputs": [
        {
          "output_type": "error",
          "ename": "IndentationError",
          "evalue": "ignored",
          "traceback": [
            "\u001b[0;36m  File \u001b[0;32m\"<ipython-input-6-8647e84a063d>\"\u001b[0;36m, line \u001b[0;32m7\u001b[0m\n\u001b[0;31m    print(\"Estás eximido del examen\")\u001b[0m\n\u001b[0m        ^\u001b[0m\n\u001b[0;31mIndentationError\u001b[0m\u001b[0;31m:\u001b[0m expected an indented block\n"
          ]
        }
      ]
    },
    {
      "cell_type": "markdown",
      "source": [
        "#E5"
      ],
      "metadata": {
        "id": "-qfwowC9Y23L"
      }
    },
    {
      "cell_type": "code",
      "source": [
        "x=float(input(\"Ingresa una nota \"))\n",
        "y=float(input(\"Ingresa una nota \"))\n",
        "z=float(input(\"Ingresa una nota \"))\n",
        "m=float(input(\"Ingresa una nota \"))\n",
        "(x+y+z+m)/4\n",
        "if (x+y+z+m)/4 > 4.5 :\n",
        "  print(\"Estás eximido del examen\")\n",
        "elif (x+y+z+m)/4 > 3.5 , (x+y+z+m)/4 < 4.5:\n",
        "  print(\"Debes presentar el examen\")\n",
        "elif (x+y+z+m)/4 > 3 and (x+y+z+m)/4 < 3.5:\n",
        "  print(\"Adicional al examen, debes presentar un trabajo\")\n",
        "elif (x+y+z+m)/4 > 2 and (x+y+z+m)/4 < 3:\n",
        "  print(\"Debes habilitar\")\n",
        "else:\n",
        "  print(\"Perdiste la materia irremediablemente\")\n",
        "#Este error aparece porque en el primer elif an vez de usar un operador lógico, como el and, puse una coma a modo de que lo siguiente también se cumpla"
      ],
      "metadata": {
        "id": "xsWfj9UTJ8IF"
      },
      "execution_count": 9,
      "outputs": []
    },
    {
      "cell_type": "markdown",
      "source": [
        "#E6"
      ],
      "metadata": {
        "id": "5_p215qUY8fR"
      }
    },
    {
      "cell_type": "code",
      "source": [
        "x=int(input(\"Ingresa un número entero \"))\n",
        "y=0\n",
        "\n",
        "if y == 0:\n",
        "  print(\"No se puede dividir entre cero, ingresa otro número\")\n",
        "x / y \n",
        "if x % y == 0 :\n",
        "  print(\"División exacta\")\n",
        "else :\n",
        "  print(f\"División exacta, el residuo es {x % y} \")\n",
        "#Da error porque no se puede dividir entre 0"
      ],
      "metadata": {
        "colab": {
          "base_uri": "https://localhost:8080/",
          "height": 269
        },
        "id": "mPp_VDNWKwHs",
        "outputId": "5de4c1b7-c984-45d3-9da2-5ebab0362ffb"
      },
      "execution_count": null,
      "outputs": [
        {
          "output_type": "stream",
          "name": "stdout",
          "text": [
            "Ingresa un número entero 1\n",
            "No se puede dividir entre cero, ingresa otro número\n"
          ]
        },
        {
          "output_type": "error",
          "ename": "ZeroDivisionError",
          "evalue": "ignored",
          "traceback": [
            "\u001b[0;31m---------------------------------------------------------------------------\u001b[0m",
            "\u001b[0;31mZeroDivisionError\u001b[0m                         Traceback (most recent call last)",
            "\u001b[0;32m<ipython-input-8-924b8b949f9b>\u001b[0m in \u001b[0;36m<module>\u001b[0;34m\u001b[0m\n\u001b[1;32m      4\u001b[0m \u001b[0;32mif\u001b[0m \u001b[0my\u001b[0m \u001b[0;34m==\u001b[0m \u001b[0;36m0\u001b[0m\u001b[0;34m:\u001b[0m\u001b[0;34m\u001b[0m\u001b[0;34m\u001b[0m\u001b[0m\n\u001b[1;32m      5\u001b[0m   \u001b[0mprint\u001b[0m\u001b[0;34m(\u001b[0m\u001b[0;34m\"No se puede dividir entre cero, ingresa otro número\"\u001b[0m\u001b[0;34m)\u001b[0m\u001b[0;34m\u001b[0m\u001b[0;34m\u001b[0m\u001b[0m\n\u001b[0;32m----> 6\u001b[0;31m \u001b[0mx\u001b[0m \u001b[0;34m/\u001b[0m \u001b[0my\u001b[0m\u001b[0;34m\u001b[0m\u001b[0;34m\u001b[0m\u001b[0m\n\u001b[0m\u001b[1;32m      7\u001b[0m \u001b[0;32mif\u001b[0m \u001b[0mx\u001b[0m \u001b[0;34m%\u001b[0m \u001b[0my\u001b[0m \u001b[0;34m==\u001b[0m \u001b[0;36m0\u001b[0m \u001b[0;34m:\u001b[0m\u001b[0;34m\u001b[0m\u001b[0;34m\u001b[0m\u001b[0m\n\u001b[1;32m      8\u001b[0m   \u001b[0mprint\u001b[0m\u001b[0;34m(\u001b[0m\u001b[0;34m\"División exacta\"\u001b[0m\u001b[0;34m)\u001b[0m\u001b[0;34m\u001b[0m\u001b[0;34m\u001b[0m\u001b[0m\n",
            "\u001b[0;31mZeroDivisionError\u001b[0m: division by zero"
          ]
        }
      ]
    },
    {
      "cell_type": "markdown",
      "source": [
        "#E7"
      ],
      "metadata": {
        "id": "kdRccfd8ZDcR"
      }
    },
    {
      "cell_type": "code",
      "source": [
        "for i in range ():\n",
        "  \n",
        "  n = int(input(\"Enter a number\"))\n",
        "  major=n\n",
        "  if n>major:\n",
        "    n==major\n",
        "print(\"The number major is \",major)\n",
        "#Sale error porque en el ciclo for, hay que poner pasos para que este se desarrolle y en este caso, no puse nada"
      ],
      "metadata": {
        "colab": {
          "base_uri": "https://localhost:8080/",
          "height": 235
        },
        "id": "0j6SZIZYTpR4",
        "outputId": "b1ccc6c3-66c6-49bb-d574-241581638298"
      },
      "execution_count": null,
      "outputs": [
        {
          "output_type": "error",
          "ename": "TypeError",
          "evalue": "ignored",
          "traceback": [
            "\u001b[0;31m---------------------------------------------------------------------------\u001b[0m",
            "\u001b[0;31mTypeError\u001b[0m                                 Traceback (most recent call last)",
            "\u001b[0;32m<ipython-input-1-85c3dad5267c>\u001b[0m in \u001b[0;36m<module>\u001b[0;34m\u001b[0m\n\u001b[0;32m----> 1\u001b[0;31m \u001b[0;32mfor\u001b[0m \u001b[0mi\u001b[0m \u001b[0;32min\u001b[0m \u001b[0mrange\u001b[0m \u001b[0;34m(\u001b[0m\u001b[0;34m)\u001b[0m\u001b[0;34m:\u001b[0m\u001b[0;34m\u001b[0m\u001b[0;34m\u001b[0m\u001b[0m\n\u001b[0m\u001b[1;32m      2\u001b[0m \u001b[0;34m\u001b[0m\u001b[0m\n\u001b[1;32m      3\u001b[0m   \u001b[0mn\u001b[0m \u001b[0;34m=\u001b[0m \u001b[0mint\u001b[0m\u001b[0;34m(\u001b[0m\u001b[0minput\u001b[0m\u001b[0;34m(\u001b[0m\u001b[0;34m\"Enter a number\"\u001b[0m\u001b[0;34m)\u001b[0m\u001b[0;34m)\u001b[0m\u001b[0;34m\u001b[0m\u001b[0;34m\u001b[0m\u001b[0m\n\u001b[1;32m      4\u001b[0m   \u001b[0mmajor\u001b[0m\u001b[0;34m=\u001b[0m\u001b[0mn\u001b[0m\u001b[0;34m\u001b[0m\u001b[0;34m\u001b[0m\u001b[0m\n\u001b[1;32m      5\u001b[0m   \u001b[0;32mif\u001b[0m \u001b[0mn\u001b[0m\u001b[0;34m>\u001b[0m\u001b[0mmajor\u001b[0m\u001b[0;34m:\u001b[0m\u001b[0;34m\u001b[0m\u001b[0;34m\u001b[0m\u001b[0m\n",
            "\u001b[0;31mTypeError\u001b[0m: range expected 1 arguments, got 0"
          ]
        }
      ]
    },
    {
      "cell_type": "markdown",
      "source": [
        "# E8"
      ],
      "metadata": {
        "id": "kcwWW62qZGg5"
      }
    },
    {
      "cell_type": "code",
      "source": [
        "for i in range(100,1):\n",
        "  f=i-10\n",
        "  ff=i+f\n",
        "print(ff)\n",
        "#El error se da porque quiero que imprima una función (ff), que no está definida en ninguna parte del código"
      ],
      "metadata": {
        "colab": {
          "base_uri": "https://localhost:8080/",
          "height": 200
        },
        "id": "DccEwhlRUS7H",
        "outputId": "1efc5c7c-114a-4e7b-bc0d-880713d59d46"
      },
      "execution_count": null,
      "outputs": [
        {
          "output_type": "error",
          "ename": "NameError",
          "evalue": "ignored",
          "traceback": [
            "\u001b[0;31m---------------------------------------------------------------------------\u001b[0m",
            "\u001b[0;31mNameError\u001b[0m                                 Traceback (most recent call last)",
            "\u001b[0;32m<ipython-input-2-2f2a360555f6>\u001b[0m in \u001b[0;36m<module>\u001b[0;34m\u001b[0m\n\u001b[1;32m      2\u001b[0m   \u001b[0mf\u001b[0m\u001b[0;34m=\u001b[0m\u001b[0mi\u001b[0m\u001b[0;34m-\u001b[0m\u001b[0;36m10\u001b[0m\u001b[0;34m\u001b[0m\u001b[0;34m\u001b[0m\u001b[0m\n\u001b[1;32m      3\u001b[0m   \u001b[0mff\u001b[0m\u001b[0;34m=\u001b[0m\u001b[0mi\u001b[0m\u001b[0;34m+\u001b[0m\u001b[0mf\u001b[0m\u001b[0;34m\u001b[0m\u001b[0;34m\u001b[0m\u001b[0m\n\u001b[0;32m----> 4\u001b[0;31m \u001b[0mprint\u001b[0m\u001b[0;34m(\u001b[0m\u001b[0mff\u001b[0m\u001b[0;34m)\u001b[0m\u001b[0;34m\u001b[0m\u001b[0;34m\u001b[0m\u001b[0m\n\u001b[0m",
            "\u001b[0;31mNameError\u001b[0m: name 'ff' is not defined"
          ]
        }
      ]
    },
    {
      "cell_type": "markdown",
      "source": [
        "#E9"
      ],
      "metadata": {
        "id": "IfOLThNUZJHL"
      }
    },
    {
      "cell_type": "code",
      "source": [
        "diccionario=(\"animal\":[\"vaca\",\"pato\",\"babilla\"], \"flores\":\"rosas\",\"booleano\":False)\n",
        "diccionario\n",
        "#Sale error de sintaxis porque un diccionario no se define con parentesís, sino con llaves, asi {}, y acá no estaría haciendo un diccionario, que es lo que quiero, sino una lista, y dentro de las listas los elementos tienen que ir separados por comas, además no existen las claves, que son las que se definen con los dos puntos"
      ],
      "metadata": {
        "colab": {
          "base_uri": "https://localhost:8080/",
          "height": 130
        },
        "id": "cI28oIGPUvZR",
        "outputId": "0ef876bb-448f-4abe-b807-f9cdc1af0881"
      },
      "execution_count": null,
      "outputs": [
        {
          "output_type": "error",
          "ename": "SyntaxError",
          "evalue": "ignored",
          "traceback": [
            "\u001b[0;36m  File \u001b[0;32m\"<ipython-input-8-ba7163813cee>\"\u001b[0;36m, line \u001b[0;32m1\u001b[0m\n\u001b[0;31m    diccionario=(\"animal\":[\"vaca\",\"pato\",\"babilla\"], \"flores\":\"rosas\",\"booleano\":False)\u001b[0m\n\u001b[0m                         ^\u001b[0m\n\u001b[0;31mSyntaxError\u001b[0m\u001b[0;31m:\u001b[0m invalid syntax\n"
          ]
        }
      ]
    },
    {
      "cell_type": "markdown",
      "source": [
        "#E10"
      ],
      "metadata": {
        "id": "XbiZCOInZPe6"
      }
    },
    {
      "cell_type": "code",
      "source": [
        "ejemplo={\"frutas\":[\"banano\",\"mangostino\",\"borojó\",\"guineo\",\"fresas\"],\"números\":1,\"tipo\":True}\n",
        "ejemplo.keys[]\n",
        "#El error se da porque para imprimir las claves o valores de un diccionario se debe escribir seguido de corchetes"
      ],
      "metadata": {
        "colab": {
          "base_uri": "https://localhost:8080/",
          "height": 130
        },
        "id": "V07ErS0DWQyY",
        "outputId": "02c58656-9c92-48e3-fe4b-7e9a9c145465"
      },
      "execution_count": null,
      "outputs": [
        {
          "output_type": "error",
          "ename": "SyntaxError",
          "evalue": "ignored",
          "traceback": [
            "\u001b[0;36m  File \u001b[0;32m\"<ipython-input-9-eea48b848e1f>\"\u001b[0;36m, line \u001b[0;32m2\u001b[0m\n\u001b[0;31m    ejemplo.keys[]\u001b[0m\n\u001b[0m                 ^\u001b[0m\n\u001b[0;31mSyntaxError\u001b[0m\u001b[0;31m:\u001b[0m invalid syntax\n"
          ]
        }
      ]
    },
    {
      "cell_type": "markdown",
      "source": [
        "#E11"
      ],
      "metadata": {
        "id": "eHjffDmNZTaK"
      }
    },
    {
      "cell_type": "code",
      "source": [
        "x=int(input(\"Ingrese un número\"))\n",
        "if x>0:\n",
        "  print(x, \" es un número positivo\") \n",
        "  elif x==0:\n",
        "  print(str(x)+ \" es cero\") \n",
        "  else:\n",
        "  print(f\" {x} es un número positivo\") \n",
        "#Cuando vamos a poner otra condición con un elif, o también un else, estos tienen que estar al mismo nivel del if en cual están subordinados, sino no toma la condición y es un error sintáctico"
      ],
      "metadata": {
        "colab": {
          "base_uri": "https://localhost:8080/",
          "height": 130
        },
        "id": "P7E5STnBX6Ok",
        "outputId": "80de8129-5fde-462f-c5d4-2ca24757c206"
      },
      "execution_count": null,
      "outputs": [
        {
          "output_type": "error",
          "ename": "SyntaxError",
          "evalue": "ignored",
          "traceback": [
            "\u001b[0;36m  File \u001b[0;32m\"<ipython-input-10-9ec9c27abd9d>\"\u001b[0;36m, line \u001b[0;32m4\u001b[0m\n\u001b[0;31m    elif x==0:\u001b[0m\n\u001b[0m       ^\u001b[0m\n\u001b[0;31mSyntaxError\u001b[0m\u001b[0;31m:\u001b[0m invalid syntax\n"
          ]
        }
      ]
    },
    {
      "cell_type": "markdown",
      "source": [
        "#E12"
      ],
      "metadata": {
        "id": "KWLKJGzbZWm_"
      }
    },
    {
      "cell_type": "code",
      "source": [
        "números=1,2,3,4,5,6,7,8,9,10,11,12\n",
        "números(1:13:2)\n",
        "#Si se quiere imprimir unos elementos de la tupla se tiene que escribir con corchetes []. no con parentesis, ni llaves"
      ],
      "metadata": {
        "colab": {
          "base_uri": "https://localhost:8080/",
          "height": 130
        },
        "id": "ar_fUsmNZZ5P",
        "outputId": "0b0f2df3-f474-44d1-ecc8-f7052e2b0b9b"
      },
      "execution_count": 28,
      "outputs": [
        {
          "output_type": "error",
          "ename": "SyntaxError",
          "evalue": "ignored",
          "traceback": [
            "\u001b[0;36m  File \u001b[0;32m\"<ipython-input-28-6168ae38e170>\"\u001b[0;36m, line \u001b[0;32m2\u001b[0m\n\u001b[0;31m    números(1:13:2)\u001b[0m\n\u001b[0m             ^\u001b[0m\n\u001b[0;31mSyntaxError\u001b[0m\u001b[0;31m:\u001b[0m invalid syntax\n"
          ]
        }
      ]
    },
    {
      "cell_type": "markdown",
      "source": [
        "#E13"
      ],
      "metadata": {
        "id": "Zb0uT8TteK7n"
      }
    },
    {
      "cell_type": "code",
      "source": [
        "class Fraccion: \n",
        "  num=0\n",
        "  den=1\n",
        "  def __init__(self, num=0, den=1):\n",
        "    self.num=num\n",
        "    self.den=den\n",
        "\n",
        "  def multiplica(self, b):\n",
        "    num=self.num*b.num\n",
        "    den=self.den*b.den\n",
        "    r=Fraccion(num,den)\n",
        "    return \n",
        "\n",
        "  def imprime():\n",
        "    print(self.num, \"/\",self.den)"
      ],
      "metadata": {
        "id": "65L4BqiNeOtX"
      },
      "execution_count": 16,
      "outputs": []
    },
    {
      "cell_type": "code",
      "source": [
        "a1=Fraccion(4,5)\n",
        "a2=Fraccion(8,9)"
      ],
      "metadata": {
        "id": "1lpkhKuV3lnr"
      },
      "execution_count": 17,
      "outputs": []
    },
    {
      "cell_type": "code",
      "source": [
        "a1.imprime()\n",
        "a2.imprime()\n",
        "#Me sale error porque no puse el self en imprime"
      ],
      "metadata": {
        "colab": {
          "base_uri": "https://localhost:8080/",
          "height": 182
        },
        "id": "HRQxhmii3mt7",
        "outputId": "c172a20c-b5f0-4a8a-b852-85e41aefb04d"
      },
      "execution_count": 18,
      "outputs": [
        {
          "output_type": "error",
          "ename": "TypeError",
          "evalue": "ignored",
          "traceback": [
            "\u001b[0;31m---------------------------------------------------------------------------\u001b[0m",
            "\u001b[0;31mTypeError\u001b[0m                                 Traceback (most recent call last)",
            "\u001b[0;32m<ipython-input-18-d8fd600bd6d9>\u001b[0m in \u001b[0;36m<module>\u001b[0;34m\u001b[0m\n\u001b[0;32m----> 1\u001b[0;31m \u001b[0ma1\u001b[0m\u001b[0;34m.\u001b[0m\u001b[0mimprime\u001b[0m\u001b[0;34m(\u001b[0m\u001b[0;34m)\u001b[0m\u001b[0;34m\u001b[0m\u001b[0;34m\u001b[0m\u001b[0m\n\u001b[0m\u001b[1;32m      2\u001b[0m \u001b[0ma2\u001b[0m\u001b[0;34m.\u001b[0m\u001b[0mimprime\u001b[0m\u001b[0;34m(\u001b[0m\u001b[0;34m)\u001b[0m\u001b[0;34m\u001b[0m\u001b[0;34m\u001b[0m\u001b[0m\n",
            "\u001b[0;31mTypeError\u001b[0m: imprime() takes 0 positional arguments but 1 was given"
          ]
        }
      ]
    },
    {
      "cell_type": "markdown",
      "source": [
        "#E14"
      ],
      "metadata": {
        "id": "Lx_alKg6fQv1"
      }
    },
    {
      "cell_type": "code",
      "source": [
        "class Empleado(): \n",
        "  def _init_(self,nombre, edad, id, salario) :\n",
        "    self.nombre = nombre\n",
        "    self.edad = edad\n",
        "    self.id = id\n",
        "    self.salario = salario\n",
        "  def __repr__(self):\n",
        "    return f\"nombre:{self.nombre}, edad:{self.edad}, id:{self.id}, salrio:{self.salario}\"\n",
        "    "
      ],
      "metadata": {
        "id": "FA53ugP0fTkv"
      },
      "execution_count": 22,
      "outputs": []
    },
    {
      "cell_type": "code",
      "source": [
        "sonia=Empleado(\"Sonia\",25,\"U00152314\",10000000)\n",
        "#Sale el error porque el constructor se crea con __init__"
      ],
      "metadata": {
        "colab": {
          "base_uri": "https://localhost:8080/",
          "height": 165
        },
        "id": "93oiKVw-4HbD",
        "outputId": "475799ea-dbe3-4037-ddc2-7ad287e82bbe"
      },
      "execution_count": 23,
      "outputs": [
        {
          "output_type": "error",
          "ename": "TypeError",
          "evalue": "ignored",
          "traceback": [
            "\u001b[0;31m---------------------------------------------------------------------------\u001b[0m",
            "\u001b[0;31mTypeError\u001b[0m                                 Traceback (most recent call last)",
            "\u001b[0;32m<ipython-input-23-51e4e8f96210>\u001b[0m in \u001b[0;36m<module>\u001b[0;34m\u001b[0m\n\u001b[0;32m----> 1\u001b[0;31m \u001b[0msonia\u001b[0m\u001b[0;34m=\u001b[0m\u001b[0mEmpleado\u001b[0m\u001b[0;34m(\u001b[0m\u001b[0;34m\"Sonia\"\u001b[0m\u001b[0;34m,\u001b[0m\u001b[0;36m25\u001b[0m\u001b[0;34m,\u001b[0m\u001b[0;34m\"U00152314\"\u001b[0m\u001b[0;34m,\u001b[0m\u001b[0;36m10000000\u001b[0m\u001b[0;34m)\u001b[0m\u001b[0;34m\u001b[0m\u001b[0;34m\u001b[0m\u001b[0m\n\u001b[0m",
            "\u001b[0;31mTypeError\u001b[0m: Empleado() takes no arguments"
          ]
        }
      ]
    },
    {
      "cell_type": "markdown",
      "source": [
        "#E15"
      ],
      "metadata": {
        "id": "fmokLA-kgSJu"
      }
    },
    {
      "cell_type": "code",
      "source": [
        "diccionario={\"animal\":[\"vaca\",\"pato\",\"babilla\"], \"flores\":\"rosas\",\"booleano\":False}\n",
        "diccionario(\"animal\")\n",
        "#Para llamar alguna clave dentro de un diccionario se necesita poner el nombre de la clave entre corchetes y no parentesis"
      ],
      "metadata": {
        "colab": {
          "base_uri": "https://localhost:8080/",
          "height": 183
        },
        "id": "sAPi6LI1gVIN",
        "outputId": "e18dc7bb-5e27-41b9-d856-d0355a9fc0ee"
      },
      "execution_count": null,
      "outputs": [
        {
          "output_type": "error",
          "ename": "TypeError",
          "evalue": "ignored",
          "traceback": [
            "\u001b[0;31m---------------------------------------------------------------------------\u001b[0m",
            "\u001b[0;31mTypeError\u001b[0m                                 Traceback (most recent call last)",
            "\u001b[0;32m<ipython-input-20-5017cd7606cc>\u001b[0m in \u001b[0;36m<module>\u001b[0;34m\u001b[0m\n\u001b[1;32m      1\u001b[0m \u001b[0mdiccionario\u001b[0m\u001b[0;34m=\u001b[0m\u001b[0;34m{\u001b[0m\u001b[0;34m\"animal\"\u001b[0m\u001b[0;34m:\u001b[0m\u001b[0;34m[\u001b[0m\u001b[0;34m\"vaca\"\u001b[0m\u001b[0;34m,\u001b[0m\u001b[0;34m\"pato\"\u001b[0m\u001b[0;34m,\u001b[0m\u001b[0;34m\"babilla\"\u001b[0m\u001b[0;34m]\u001b[0m\u001b[0;34m,\u001b[0m \u001b[0;34m\"flores\"\u001b[0m\u001b[0;34m:\u001b[0m\u001b[0;34m\"rosas\"\u001b[0m\u001b[0;34m,\u001b[0m\u001b[0;34m\"booleano\"\u001b[0m\u001b[0;34m:\u001b[0m\u001b[0;32mFalse\u001b[0m\u001b[0;34m}\u001b[0m\u001b[0;34m\u001b[0m\u001b[0;34m\u001b[0m\u001b[0m\n\u001b[0;32m----> 2\u001b[0;31m \u001b[0mdiccionario\u001b[0m\u001b[0;34m(\u001b[0m\u001b[0;34m\"animal\"\u001b[0m\u001b[0;34m)\u001b[0m\u001b[0;34m\u001b[0m\u001b[0;34m\u001b[0m\u001b[0m\n\u001b[0m",
            "\u001b[0;31mTypeError\u001b[0m: 'dict' object is not callable"
          ]
        }
      ]
    },
    {
      "cell_type": "markdown",
      "source": [
        "#E16"
      ],
      "metadata": {
        "id": "_qozHBm0hnCh"
      }
    },
    {
      "cell_type": "code",
      "source": [
        "ejemplo={\"frutas\":[\"banano\",\"mangostino\",\"borojó\",\"guineo\",\"fresas\"],\"números\":1, 2, 3, 4,\"tipo\":True}\n",
        "ejemplo\n",
        "#Al llenar la clave \"números\" en el diccionario lo estoy haciendo como una lista, pero no puse los parentesis, por lo cual no lee y es un error sintáctico"
      ],
      "metadata": {
        "colab": {
          "base_uri": "https://localhost:8080/",
          "height": 130
        },
        "id": "7b31ncukhptZ",
        "outputId": "bacd95b3-a9d9-439a-a728-742a4e35000b"
      },
      "execution_count": null,
      "outputs": [
        {
          "output_type": "error",
          "ename": "SyntaxError",
          "evalue": "ignored",
          "traceback": [
            "\u001b[0;36m  File \u001b[0;32m\"<ipython-input-21-de19d34205f3>\"\u001b[0;36m, line \u001b[0;32m1\u001b[0m\n\u001b[0;31m    ejemplo={\"frutas\":[\"banano\",\"mangostino\",\"borojó\",\"guineo\",\"fresas\"],\"números\":1, 2, 3, 4,\"tipo\":True}\u001b[0m\n\u001b[0m                                                                                       ^\u001b[0m\n\u001b[0;31mSyntaxError\u001b[0m\u001b[0;31m:\u001b[0m invalid syntax\n"
          ]
        }
      ]
    },
    {
      "cell_type": "markdown",
      "source": [
        "#E17"
      ],
      "metadata": {
        "id": "k3fGvI4dhq3_"
      }
    },
    {
      "cell_type": "code",
      "source": [
        "ejemplo=[\"banana\",\"sandía\", 4, 5, False]\n",
        "ejemplo"
      ],
      "metadata": {
        "colab": {
          "base_uri": "https://localhost:8080/"
        },
        "id": "TQx12gaVhs3H",
        "outputId": "348e4fed-a7e8-4944-b148-7d92d51433b0"
      },
      "execution_count": null,
      "outputs": [
        {
          "output_type": "execute_result",
          "data": {
            "text/plain": [
              "['banana', 'sandía', 4, 5, False]"
            ]
          },
          "metadata": {},
          "execution_count": 22
        }
      ]
    },
    {
      "cell_type": "code",
      "source": [
        "ejemplo.remove(4)\n",
        "ejemplo"
      ],
      "metadata": {
        "colab": {
          "base_uri": "https://localhost:8080/"
        },
        "id": "aA7aTzP4kMqY",
        "outputId": "38cf944c-71b7-47ba-ecbe-bb6ab8302d47"
      },
      "execution_count": null,
      "outputs": [
        {
          "output_type": "execute_result",
          "data": {
            "text/plain": [
              "['banana', 'sandía', 5, False]"
            ]
          },
          "metadata": {},
          "execution_count": 23
        }
      ]
    },
    {
      "cell_type": "code",
      "source": [
        "ejemplo.remove(4)\n",
        "#Este código bota un error porque el elemnto 4 ya se quitó de la lista anteriormente y como se elimina, ningún elemento toma la posición 4, es decir, todos siguen en las posiciones originales, solo que en la 4 ya no hay nada"
      ],
      "metadata": {
        "colab": {
          "base_uri": "https://localhost:8080/",
          "height": 165
        },
        "id": "5k2-KX4xkRCA",
        "outputId": "40e8979c-b0c2-47cb-9956-8a08910226f6"
      },
      "execution_count": null,
      "outputs": [
        {
          "output_type": "error",
          "ename": "ValueError",
          "evalue": "ignored",
          "traceback": [
            "\u001b[0;31m---------------------------------------------------------------------------\u001b[0m",
            "\u001b[0;31mValueError\u001b[0m                                Traceback (most recent call last)",
            "\u001b[0;32m<ipython-input-24-607bebb2c1a5>\u001b[0m in \u001b[0;36m<module>\u001b[0;34m\u001b[0m\n\u001b[0;32m----> 1\u001b[0;31m \u001b[0mejemplo\u001b[0m\u001b[0;34m.\u001b[0m\u001b[0mremove\u001b[0m\u001b[0;34m(\u001b[0m\u001b[0;36m4\u001b[0m\u001b[0;34m)\u001b[0m\u001b[0;34m\u001b[0m\u001b[0;34m\u001b[0m\u001b[0m\n\u001b[0m",
            "\u001b[0;31mValueError\u001b[0m: list.remove(x): x not in list"
          ]
        }
      ]
    },
    {
      "cell_type": "markdown",
      "source": [
        "#E18"
      ],
      "metadata": {
        "id": "RPbWxg9IhtiR"
      }
    },
    {
      "cell_type": "code",
      "source": [
        "gohan=Hibrido(\"Gohan\", \"negro\",\"aguamarina\",1000, 50, True)\n",
        "#Lo que queria hacer en este código era que gohan siendo un hibrido heredara los atributos de sayayin y humano pero no definí hibrido ni en sayayin ni humano, por eso me sale error"
      ],
      "metadata": {
        "id": "8u6kuMiKhv0P",
        "colab": {
          "base_uri": "https://localhost:8080/",
          "height": 200
        },
        "outputId": "8404b397-f9ae-43e8-f76a-8de6ea6d4d7c"
      },
      "execution_count": 1,
      "outputs": [
        {
          "output_type": "error",
          "ename": "NameError",
          "evalue": "ignored",
          "traceback": [
            "\u001b[0;31m---------------------------------------------------------------------------\u001b[0m",
            "\u001b[0;31mNameError\u001b[0m                                 Traceback (most recent call last)",
            "\u001b[0;32m<ipython-input-1-9f67e3f61444>\u001b[0m in \u001b[0;36m<module>\u001b[0;34m\u001b[0m\n\u001b[0;32m----> 1\u001b[0;31m \u001b[0mgohan\u001b[0m\u001b[0;34m=\u001b[0m\u001b[0mHibrido\u001b[0m\u001b[0;34m(\u001b[0m\u001b[0;34m\"Gohan\"\u001b[0m\u001b[0;34m,\u001b[0m \u001b[0;34m\"negro\"\u001b[0m\u001b[0;34m,\u001b[0m\u001b[0;34m\"aguamarina\"\u001b[0m\u001b[0;34m,\u001b[0m\u001b[0;36m1000\u001b[0m\u001b[0;34m,\u001b[0m \u001b[0;36m50\u001b[0m\u001b[0;34m,\u001b[0m \u001b[0;32mTrue\u001b[0m\u001b[0;34m)\u001b[0m\u001b[0;34m\u001b[0m\u001b[0;34m\u001b[0m\u001b[0m\n\u001b[0m\u001b[1;32m      2\u001b[0m \u001b[0;31m#Lo que queria hacer en este código era imprimir el último elemento de una tupla, pero para esto se tiene que colocar un -1 al final en vez de 1\u001b[0m\u001b[0;34m\u001b[0m\u001b[0;34m\u001b[0m\u001b[0;34m\u001b[0m\u001b[0m\n",
            "\u001b[0;31mNameError\u001b[0m: name 'Hibrido' is not defined"
          ]
        }
      ]
    },
    {
      "cell_type": "markdown",
      "source": [
        "#E19"
      ],
      "metadata": {
        "id": "rbkGMa6hhwfg"
      }
    },
    {
      "cell_type": "code",
      "source": [
        "c1={ }\n",
        "a=int(input(\"Ingresa la cantidad de alumnos en el curso 1\"))\n",
        "for i in range (a):\n",
        "  na=input(\"Ingresa el nombre del alumno\")\n",
        "  n1=[ ]\n",
        "  n=float(input(\"Ingresa la nota del alumno (si no quieres agregar más ingresa un número negativo)\"))\n",
        "  while n > 0:\n",
        "    n1.append(n)\n",
        "    n=float(input(\"Ingresa la nota del alumno (si no quieres agregar más ingresa un número negativo)\"))\n",
        "  c1[a]=n.copy( )\n",
        "  #El error sale porque puse n, que es una variable, en vez de poner la lista n1"
      ],
      "metadata": {
        "id": "PPMyDCQKhyag",
        "colab": {
          "base_uri": "https://localhost:8080/",
          "height": 321
        },
        "outputId": "6283fc35-d07d-4c9c-fe5a-81af4c76c430"
      },
      "execution_count": 4,
      "outputs": [
        {
          "name": "stdout",
          "output_type": "stream",
          "text": [
            "Ingresa la cantidad de alumnos en el curso 12\n",
            "Ingresa el nombre del alumnop\n",
            "Ingresa la nota del alumno (si no quieres agregar más ingresa un número negativo)45\n",
            "Ingresa la nota del alumno (si no quieres agregar más ingresa un número negativo)34\n",
            "Ingresa la nota del alumno (si no quieres agregar más ingresa un número negativo)34\n",
            "Ingresa la nota del alumno (si no quieres agregar más ingresa un número negativo)-1\n"
          ]
        },
        {
          "output_type": "error",
          "ename": "AttributeError",
          "evalue": "ignored",
          "traceback": [
            "\u001b[0;31m---------------------------------------------------------------------------\u001b[0m",
            "\u001b[0;31mAttributeError\u001b[0m                            Traceback (most recent call last)",
            "\u001b[0;32m<ipython-input-4-f51e53ccc4ec>\u001b[0m in \u001b[0;36m<module>\u001b[0;34m\u001b[0m\n\u001b[1;32m      8\u001b[0m     \u001b[0mn1\u001b[0m\u001b[0;34m.\u001b[0m\u001b[0mappend\u001b[0m\u001b[0;34m(\u001b[0m\u001b[0mn\u001b[0m\u001b[0;34m)\u001b[0m\u001b[0;34m\u001b[0m\u001b[0;34m\u001b[0m\u001b[0m\n\u001b[1;32m      9\u001b[0m     \u001b[0mn\u001b[0m\u001b[0;34m=\u001b[0m\u001b[0mfloat\u001b[0m\u001b[0;34m(\u001b[0m\u001b[0minput\u001b[0m\u001b[0;34m(\u001b[0m\u001b[0;34m\"Ingresa la nota del alumno (si no quieres agregar más ingresa un número negativo)\"\u001b[0m\u001b[0;34m)\u001b[0m\u001b[0;34m)\u001b[0m\u001b[0;34m\u001b[0m\u001b[0;34m\u001b[0m\u001b[0m\n\u001b[0;32m---> 10\u001b[0;31m   \u001b[0mc1\u001b[0m\u001b[0;34m[\u001b[0m\u001b[0ma\u001b[0m\u001b[0;34m]\u001b[0m\u001b[0;34m=\u001b[0m\u001b[0mn\u001b[0m\u001b[0;34m.\u001b[0m\u001b[0mcopy\u001b[0m\u001b[0;34m(\u001b[0m \u001b[0;34m)\u001b[0m\u001b[0;34m\u001b[0m\u001b[0;34m\u001b[0m\u001b[0m\n\u001b[0m\u001b[1;32m     11\u001b[0m   \u001b[0;31m#El error sale porque puse n, que es una variable, en vez de poner la lista n1\u001b[0m\u001b[0;34m\u001b[0m\u001b[0;34m\u001b[0m\u001b[0;34m\u001b[0m\u001b[0m\n",
            "\u001b[0;31mAttributeError\u001b[0m: 'float' object has no attribute 'copy'"
          ]
        }
      ]
    },
    {
      "cell_type": "markdown",
      "source": [
        "#E20"
      ],
      "metadata": {
        "id": "wQVQi62Bhy1w"
      }
    },
    {
      "cell_type": "code",
      "source": [
        "c1={ }\n",
        "a=int(input(\"Ingresa la cantidad de alumnos en el curso 1 \"))\n",
        "for i in range (a):\n",
        "  na=input(\"Ingresa el nombre del alumno \")\n",
        "  n1=[ ]\n",
        "  n=int(input(\"Ingresa la nota del alumno (si no quieres agregar más ingresa un número negativo o mayor a 5)\"))\n",
        "  while n > 0 and n <= 5:\n",
        "    n1.append(n)\n",
        "    n=int(input(\"Ingresa la nota del alumno (si no quieres agregar más ingresa un número negativo o mayor a 5)\"))\n",
        "  c1[]=n1.copy( )\n",
        "  prom1=sum(n1)/float(len(n1))\n",
        "print(c1)\n",
        "#El error da porque no puse en qué clave se van añadiendo las notas de n1"
      ],
      "metadata": {
        "id": "GIP_2pl2h1U_",
        "colab": {
          "base_uri": "https://localhost:8080/",
          "height": 130
        },
        "outputId": "02c44ff8-bb51-452d-e438-c7cf8ef41609"
      },
      "execution_count": null,
      "outputs": [
        {
          "output_type": "error",
          "ename": "SyntaxError",
          "evalue": "ignored",
          "traceback": [
            "\u001b[0;36m  File \u001b[0;32m\"<ipython-input-28-63123697e07e>\"\u001b[0;36m, line \u001b[0;32m10\u001b[0m\n\u001b[0;31m    c1[]=n1.copy( )\u001b[0m\n\u001b[0m       ^\u001b[0m\n\u001b[0;31mSyntaxError\u001b[0m\u001b[0;31m:\u001b[0m invalid syntax\n"
          ]
        }
      ]
    }
  ]
}